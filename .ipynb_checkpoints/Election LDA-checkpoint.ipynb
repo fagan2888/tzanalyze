{
 "cells": [
  {
   "cell_type": "code",
   "execution_count": 1,
   "metadata": {
    "collapsed": true
   },
   "outputs": [],
   "source": [
    "import logging\n",
    "logging.basicConfig(format='%(asctime)s : %(levelname)s : %(message)s', level=logging.INFO)"
   ]
  },
  {
   "cell_type": "code",
   "execution_count": 2,
   "metadata": {
    "collapsed": true
   },
   "outputs": [],
   "source": [
    "import json\n",
    "from gensim import corpora, similarities, models"
   ]
  },
  {
   "cell_type": "code",
   "execution_count": 3,
   "metadata": {
    "collapsed": false
   },
   "outputs": [
    {
     "name": "stdout",
     "output_type": "stream",
     "text": [
      "1041 sentences\n"
     ]
    }
   ],
   "source": [
    "with open(\"lda_ready/daily_news.json\", \"rb\") as infile:\n",
    "    sentences = json.load(infile)\n",
    "\n",
    "print \"%s sentences\" % len(sentences)\n",
    "    \n",
    "dictionary = corpora.Dictionary(sentences)\n",
    "corpus = [dictionary.doc2bow(sent) for sent in sentences]\n",
    "\n",
    "#corpora.MmCorpus.serialize('guardian_election.mm', corpus)"
   ]
  },
  {
   "cell_type": "code",
   "execution_count": 4,
   "metadata": {
    "collapsed": true
   },
   "outputs": [],
   "source": [
    "tfidf = models.TfidfModel(corpus)\n",
    "corpus_tfidf = tfidf[corpus]"
   ]
  },
  {
   "cell_type": "code",
   "execution_count": 5,
   "metadata": {
    "collapsed": false
   },
   "outputs": [
    {
     "name": "stderr",
     "output_type": "stream",
     "text": [
      "/Users/thebenedict/.virtualenvs/tzmedia/lib/python2.7/site-packages/gensim/models/ldamodel.py:468: RuntimeWarning: overflow encountered in exp2\n",
      "  (perwordbound, numpy.exp2(-perwordbound), len(chunk), corpus_words))\n"
     ]
    }
   ],
   "source": [
    "lda = models.LdaModel(corpus=corpus_tfidf, id2word=dictionary, num_topics = 500, update_every=0, passes=30)"
   ]
  },
  {
   "cell_type": "code",
   "execution_count": 6,
   "metadata": {
    "collapsed": false
   },
   "outputs": [
    {
     "data": {
      "text/plain": [
       "[u'0.029*commercial + 0.029*99 + 0.026*wards + 0.026*joint + 0.026*exception + 0.023*total + 0.023*capital + 0.023*referred + 0.022*ten + 0.021*unconstitutional',\n",
       " u'0.026*archipelago + 0.024*semi + 0.024*ballots + 0.024*autonomous + 0.019*holding + 0.019*occupation + 0.019*pounce + 0.019*optimal + 0.019*lookout + 0.019*admonished',\n",
       " u'0.023*unknown + 0.023*cyprian + 0.023*mkeha + 0.023*magistrate + 0.023*principal + 0.021*containing + 0.020*network + 0.019*diaspora + 0.019*resident + 0.019*false',\n",
       " u'0.000*annulment + 0.000*circumstances + 0.000*account + 0.000*zec + 0.000*disciplinary + 0.000*appointing + 0.000*leading + 0.000*commissioners + 0.000*advised + 0.000*staff',\n",
       " u'0.028*purchasing + 0.028*stock + 0.026*something + 0.026*goes + 0.026*food + 0.025*case + 0.017*just + 0.017*customers + 0.017*foodstuffs + 0.017*amiss',\n",
       " u'0.000*recognition + 0.000*describing + 0.000*thought + 0.000*thereby + 0.000*remarkable + 0.000*saving + 0.000*jonathans + 0.000*catastrophe + 0.000*ekiti + 0.000*hailed',\n",
       " u'0.000*recognition + 0.000*describing + 0.000*thought + 0.000*thereby + 0.000*remarkable + 0.000*saving + 0.000*jonathans + 0.000*catastrophe + 0.000*ekiti + 0.000*hailed',\n",
       " u'0.115*do + 0.050*announcing + 0.041*especially + 0.034*results + 0.034*when + 0.032*their + 0.025*should + 0.021*emphasising + 0.021*presidential + 0.020*this',\n",
       " u'0.061*kicked + 0.059*late + 0.055*august + 0.055*year + 0.048*off + 0.036*this + 0.031*campaigns + 0.027*since + 0.026*sixth + 0.022*pass',\n",
       " u'0.025*vulnerable + 0.025*upheavals + 0.025*gpf + 0.025*nghambi + 0.025*participant + 0.022*foundation + 0.022*martha + 0.021*global + 0.019*event + 0.017*groups']"
      ]
     },
     "execution_count": 6,
     "metadata": {},
     "output_type": "execute_result"
    }
   ],
   "source": [
    "lda.show_topics()"
   ]
  },
  {
   "cell_type": "code",
   "execution_count": null,
   "metadata": {
    "collapsed": true
   },
   "outputs": [],
   "source": []
  }
 ],
 "metadata": {
  "kernelspec": {
   "display_name": "Python 2",
   "language": "python",
   "name": "python2"
  },
  "language_info": {
   "codemirror_mode": {
    "name": "ipython",
    "version": 2
   },
   "file_extension": ".py",
   "mimetype": "text/x-python",
   "name": "python",
   "nbconvert_exporter": "python",
   "pygments_lexer": "ipython2",
   "version": "2.7.6"
  }
 },
 "nbformat": 4,
 "nbformat_minor": 0
}
