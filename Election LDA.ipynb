{
 "cells": [
  {
   "cell_type": "code",
   "execution_count": 2,
   "metadata": {
    "collapsed": true
   },
   "outputs": [],
   "source": [
    "import logging\n",
    "logging.basicConfig(format='%(asctime)s : %(levelname)s : %(message)s', level=logging.INFO)"
   ]
  },
  {
   "cell_type": "code",
   "execution_count": 18,
   "metadata": {
    "collapsed": true
   },
   "outputs": [],
   "source": [
    "import json\n",
    "import re\n",
    "from gensim import corpora, similarities, models"
   ]
  },
  {
   "cell_type": "code",
   "execution_count": 8,
   "metadata": {
    "collapsed": false
   },
   "outputs": [
    {
     "name": "stdout",
     "output_type": "stream",
     "text": [
      "8924 sentences\n"
     ]
    }
   ],
   "source": [
    "# lda_ready text has stopwords removed, each document is a sentence in\n",
    "# an article that contains the word \"election\"\n",
    "\n",
    "with open(\"lda_ready/guardian.json\", \"rb\") as infile:\n",
    "    sentences = json.load(infile)\n",
    "\n",
    "print \"%s sentences\" % len(sentences)\n",
    "    \n",
    "dictionary = corpora.Dictionary(sentences)\n",
    "corpus = [dictionary.doc2bow(sent) for sent in sentences]\n",
    "\n",
    "#corpora.MmCorpus.serialize('guardian_election.mm', corpus)"
   ]
  },
  {
   "cell_type": "code",
   "execution_count": null,
   "metadata": {
    "collapsed": true
   },
   "outputs": [],
   "source": [
    "#tfidf = models.TfidfModel(corpus)\n",
    "#corpus_tfidf = tfidf[corpus]"
   ]
  },
  {
   "cell_type": "code",
   "execution_count": 9,
   "metadata": {
    "collapsed": false
   },
   "outputs": [],
   "source": [
    "lda = models.LdaModel(corpus=corpus, id2word=dictionary, num_topics = 100, update_every=0, passes=30)"
   ]
  },
  {
   "cell_type": "code",
   "execution_count": 11,
   "metadata": {
    "collapsed": false
   },
   "outputs": [
    {
     "data": {
      "text/plain": [
       "[u'0.075*0 + 0.039*act + 0.024*adc + 0.023*wazalendo + 0.018*ccm + 0.018*tlp + 0.016*change + 0.016*chauma + 0.016*updp + 0.014*nra',\n",
       " u'0.050*jecha + 0.031*election + 0.030*votes + 0.028*chairman + 0.018*results + 0.014*zec + 0.012*presidential + 0.010*last + 0.010*shortfalls + 0.009*number',\n",
       " u'0.018*election + 0.013*court + 0.012*results + 0.009*monday + 0.007*challenge + 0.007*constituencies + 0.007*general + 0.006*according + 0.005*also + 0.005*magufuli',\n",
       " u'0.010*said + 0.009*also + 0.009*election + 0.008*political + 0.007*university + 0.007*country + 0.006*top + 0.005*office + 0.005*well + 0.005*general',\n",
       " u'0.024*peace + 0.017*eligible + 0.016*development + 0.015*said + 0.014*loans + 0.011*without + 0.010*stake + 0.009*maintain + 0.008*ccm + 0.008*election',\n",
       " u'0.021*said + 0.016*50 + 0.015*units + 0.014*also + 0.013*1 + 0.012*unit + 0.010*per + 0.009*16 + 0.009*accept + 0.009*candidates',\n",
       " u'0.021*public + 0.021*said + 0.013*would + 0.011*interest + 0.010*accused + 0.009*dr + 0.007*also + 0.007*letter + 0.006*election + 0.006*alleged',\n",
       " u'0.049*minister + 0.039*prime + 0.028*former + 0.016*sumaye + 0.011*frederick + 0.009*government + 0.008*president + 0.008*nation + 0.008*changes + 0.007*said',\n",
       " u'0.084*rights + 0.065*human + 0.020*legal + 0.018*centre + 0.015*police + 0.014*lhrc + 0.011*defenders + 0.010*tanzania + 0.010*dr + 0.009*election',\n",
       " u'0.036*east + 0.027*african + 0.020*eac + 0.018*africa + 0.016*community + 0.016*said + 0.011*guardian + 0.010*kenya + 0.010*elections + 0.010*peace']"
      ]
     },
     "execution_count": 11,
     "metadata": {},
     "output_type": "execute_result"
    }
   ],
   "source": [
    "topics = lda.show_topics()\n",
    "topics"
   ]
  },
  {
   "cell_type": "code",
   "execution_count": 68,
   "metadata": {
    "collapsed": false
   },
   "outputs": [],
   "source": [
    "# calculate the mean score of each topic, and return the highest, lowest and mean of the means\n",
    "def score_topics(topics):\n",
    "    topic_score_strings = map(lambda topic_string: re.findall('0\\.\\d{3}', topic_string), topics)\n",
    "    topic_score_lists = map(lambda topic_scores_list: map(lambda topic_score_string: float(topic_score_string), topic_scores_list), topic_score_strings)\n",
    "    mean_scores = map(lambda score_list: sum(score_list) / len(score_list), topic_score_lists)\n",
    "    max_score = round(max(mean_scores), 4)\n",
    "    min_score = round(min(mean_scores), 4)\n",
    "    mean_score = round(sum(mean_scores) / len(mean_scores), 4)\n",
    "    return[max_score, min_score, mean_score]"
   ]
  },
  {
   "cell_type": "code",
   "execution_count": 60,
   "metadata": {
    "collapsed": false
   },
   "outputs": [
    {
     "name": "stderr",
     "output_type": "stream",
     "text": [
      "/Users/thebenedict/.virtualenvs/tzmedia/lib/python2.7/site-packages/gensim/models/ldamodel.py:621: RuntimeWarning: divide by zero encountered in log\n",
      "  diff = numpy.log(self.expElogbeta)\n"
     ]
    }
   ],
   "source": [
    "scores = []\n",
    "all_topics = []\n",
    "highest_score = 0\n",
    "lowest_score = 1\n",
    "highest_scoring_topics = []\n",
    "lowest_scoring_topics = []\n",
    "\n",
    "for i in range(10, 1011, 50):\n",
    "    lda = models.LdaModel(corpus=corpus, id2word=dictionary, num_topics = i, update_every=0, passes=50)\n",
    "    topics = lda.show_topics()\n",
    "    topic_scores = score_topics(topics)\n",
    "    \n",
    "    if topic_scores[0] > highest_score:\n",
    "        highest_score = topic_scores[0]\n",
    "        highest_scoring_topics = topics\n",
    "    if topic_scores[1] < lowest_score:\n",
    "        lowest_score = topic_scores[1]\n",
    "        lowest_scoring_topics = topics\n",
    "    \n",
    "    scores.append(topic_scores)\n",
    "    all_topics.append(topics)"
   ]
  },
  {
   "cell_type": "code",
   "execution_count": 61,
   "metadata": {
    "collapsed": false
   },
   "outputs": [
    {
     "data": {
      "text/plain": [
       "0.09"
      ]
     },
     "execution_count": 61,
     "metadata": {},
     "output_type": "execute_result"
    }
   ],
   "source": [
    "highest_score"
   ]
  },
  {
   "cell_type": "code",
   "execution_count": 62,
   "metadata": {
    "collapsed": false
   },
   "outputs": [
    {
     "data": {
      "text/plain": [
       "0.01"
      ]
     },
     "execution_count": 62,
     "metadata": {},
     "output_type": "execute_result"
    }
   ],
   "source": [
    "lowest_score"
   ]
  },
  {
   "cell_type": "code",
   "execution_count": 63,
   "metadata": {
    "collapsed": false
   },
   "outputs": [
    {
     "data": {
      "text/plain": [
       "[u'0.020*elections + 0.020*bank + 0.020*would + 0.020*political + 0.020*tanzanians + 0.020*time + 0.019*country + 0.011*nec + 0.011*president + 0.010*urged',\n",
       " u'0.068*director + 0.063*applicants + 0.053*nyatega + 0.052*executive + 0.051*george + 0.037*eligible + 0.032*loans + 0.031*72 + 0.028*board + 0.027*2015',\n",
       " u'0.019*yesterday + 0.019*rural + 0.019*electrification + 0.009*called + 0.009*former + 0.009*society + 0.009*civil + 0.009*parliament + 0.009*1 + 0.009*year',\n",
       " u'0.514*minister + 0.120*prime + 0.079*works + 0.069*government + 0.025*magufuli + 0.023*party + 0.023*mizengo + 0.023*pinda + 0.015*attended + 0.012*leaders',\n",
       " u'0.027*said + 0.027*political + 0.027*honour + 0.014*election + 0.014*nec + 0.014*leaders + 0.014*results + 0.014*use + 0.014*auabc + 0.014*politicians',\n",
       " u'0.035*people + 0.026*quantity + 0.026*time + 0.017*export + 0.017*decrease + 0.017*issues + 0.017*possible + 0.017*address + 0.017*high + 0.017*said',\n",
       " u'0.279*supporters + 0.067*ruling + 0.054*ccm + 0.050*party + 0.038*dr + 0.037*poverty + 0.030*failed + 0.030*retrieve + 0.023*shein + 0.018*stop',\n",
       " u'0.038*said + 0.027*parties + 0.026*election + 0.018*engage + 0.018*last + 0.018*credible + 0.018*ensure + 0.018*poll + 0.018*witch + 0.018*fair',\n",
       " u'0.039*election + 0.021*international + 0.021*observers + 0.021*cyprian + 0.021*unknown + 0.021*mkeha + 0.021*place + 0.021*network + 0.021*magistrate + 0.021*principal',\n",
       " u'0.202*want + 0.074*people + 0.027*said + 0.026*contender + 0.019*kahama + 0.019*however + 0.019*bring + 0.017*coalition + 0.014*tanzania + 0.013*put']"
      ]
     },
     "execution_count": 63,
     "metadata": {},
     "output_type": "execute_result"
    }
   ],
   "source": [
    "highest_scoring_topics"
   ]
  },
  {
   "cell_type": "code",
   "execution_count": 64,
   "metadata": {
    "collapsed": false
   },
   "outputs": [
    {
     "data": {
      "text/plain": [
       "[u'0.015*said + 0.011*election + 0.010*magufuli + 0.009*dr + 0.008*people + 0.007*candidates + 0.007*presidential + 0.007*also + 0.006*government + 0.006*ccm',\n",
       " u'0.016*nec + 0.016*said + 0.012*electoral + 0.012*voters + 0.010*national + 0.009*commission + 0.009*would + 0.008*election + 0.008*also + 0.008*polling',\n",
       " u'0.014*human + 0.014*rights + 0.008*police + 0.006*tanzania + 0.006*said + 0.005*president + 0.005*nyerere + 0.004*including + 0.004*legal + 0.004*centre',\n",
       " u'0.013*votes + 0.009*said + 0.007*also + 0.006*us + 0.006*time + 0.006*1 + 0.005*one + 0.005*president + 0.004*government + 0.004*opposition',\n",
       " u'0.018*said + 0.010*water + 0.007*change + 0.006*people + 0.006*tanzania + 0.005*development + 0.005*government + 0.005*country + 0.004*would + 0.004*tanzanians',\n",
       " u'0.033*ccm + 0.029*chadema + 0.011*said + 0.011*urban + 0.009*0 + 0.008*region + 0.007*police + 0.005*15 + 0.005*also + 0.005*1',\n",
       " u'0.020*es + 0.020*dar + 0.020*salaam + 0.012*said + 0.012*yesterday + 0.008*tanzania + 0.007*ukawa + 0.006*election + 0.006*ccm + 0.006*president',\n",
       " u'0.022*said + 0.014*dr + 0.013*government + 0.010*ccm + 0.010*president + 0.009*chama + 0.009*cha + 0.008*zanzibar + 0.007*shein + 0.007*election',\n",
       " u'0.036*election + 0.018*zanzibar + 0.014*results + 0.013*general + 0.011*said + 0.010*presidential + 0.009*zec + 0.009*elections + 0.007*government + 0.006*commission',\n",
       " u'0.023*said + 0.018*per + 0.016*cent + 0.011*votes + 0.009*would + 0.006*people + 0.005*country + 0.005*year + 0.005*lowassa + 0.004*president']"
      ]
     },
     "execution_count": 64,
     "metadata": {},
     "output_type": "execute_result"
    }
   ],
   "source": [
    "lowest_scoring_topics"
   ]
  },
  {
   "cell_type": "code",
   "execution_count": 65,
   "metadata": {
    "collapsed": false
   },
   "outputs": [
    {
     "data": {
      "text/plain": [
       "[[0.01, 0.01, 0.01],\n",
       " [0.02, 0.01, 0.01],\n",
       " [0.03, 0.01, 0.02],\n",
       " [0.02, 0.01, 0.01],\n",
       " [0.05, 0.01, 0.02],\n",
       " [0.05, 0.01, 0.02],\n",
       " [0.06, 0.01, 0.02],\n",
       " [0.07, 0.01, 0.02],\n",
       " [0.04, 0.01, 0.02],\n",
       " [0.08, 0.01, 0.02],\n",
       " [0.04, 0.01, 0.02],\n",
       " [0.02, 0.01, 0.02],\n",
       " [0.02, 0.01, 0.02],\n",
       " [0.02, 0.01, 0.02],\n",
       " [0.02, 0.01, 0.02],\n",
       " [0.05, 0.01, 0.03],\n",
       " [0.07, 0.01, 0.03],\n",
       " [0.06, 0.02, 0.03],\n",
       " [0.04, 0.01, 0.02],\n",
       " [0.09, 0.01, 0.04],\n",
       " [0.08, 0.01, 0.03]]"
      ]
     },
     "execution_count": 65,
     "metadata": {},
     "output_type": "execute_result"
    }
   ],
   "source": [
    "scores"
   ]
  },
  {
   "cell_type": "code",
   "execution_count": 67,
   "metadata": {
    "collapsed": false
   },
   "outputs": [
    {
     "name": "stdout",
     "output_type": "stream",
     "text": [
      "241 artciles\n"
     ]
    }
   ],
   "source": [
    "# lda_ready_articles have stopwords removed, each document is an\n",
    "# article as a list of words \n",
    "# only articles that contain the word \"election\" are included\n",
    "\n",
    "with open(\"lda_ready_articles/guardian.json\", \"rb\") as infile:\n",
    "    articles = json.load(infile)\n",
    "\n",
    "print \"%s artciles\" % len(articles)\n",
    "    \n",
    "dictionary = corpora.Dictionary(articles)\n",
    "corpus = [dictionary.doc2bow(a) for a in articles]"
   ]
  },
  {
   "cell_type": "code",
   "execution_count": 69,
   "metadata": {
    "collapsed": true
   },
   "outputs": [],
   "source": [
    "scores = []\n",
    "high_scores = []\n",
    "low_scores = []\n",
    "mean_scores = []\n",
    "all_topics = []\n",
    "highest_score = 0\n",
    "lowest_score = 1\n",
    "highest_scoring_topics = []\n",
    "lowest_scoring_topics = []\n",
    "\n",
    "for i in range(10, 1011, 50):\n",
    "    lda = models.LdaModel(corpus=corpus, id2word=dictionary, num_topics = i, update_every=0, passes=50)\n",
    "    topics = lda.show_topics()\n",
    "    topic_scores = score_topics(topics)\n",
    "    \n",
    "    if topic_scores[0] > highest_score:\n",
    "        highest_score = topic_scores[0]\n",
    "        highest_scoring_topics = topics\n",
    "    if topic_scores[1] < lowest_score:\n",
    "        lowest_score = topic_scores[1]\n",
    "        lowest_scoring_topics = topics\n",
    "    \n",
    "    scores.append(topic_scores)\n",
    "    high_scores.append(topic_scores[0])\n",
    "    low_scores.append(topic_scores[1])\n",
    "    mean_scores.append(topic_scores[2])\n",
    "    all_topics.append(topics)"
   ]
  },
  {
   "cell_type": "code",
   "execution_count": 70,
   "metadata": {
    "collapsed": false
   },
   "outputs": [
    {
     "data": {
      "text/plain": [
       "[u'0.027*said + 0.024*ccm + 0.016*government + 0.012*election + 0.012*local + 0.011*leaders + 0.011*general + 0.011*campaign + 0.011*vuai + 0.010*opposition',\n",
       " u'0.060*ccm + 0.060*also + 0.053*campaign + 0.052*years + 0.046*power + 0.041*many + 0.035*tanzanians + 0.031*make + 0.030*need + 0.029*magufuli',\n",
       " u'0.021*said + 0.017*government + 0.017*shares + 0.015*sale + 0.014*two + 0.012*lowassa + 0.011*firms + 0.010*budget + 0.010*campaigns + 0.010*sumaye',\n",
       " u'0.000*political + 0.000*magufuli + 0.000*said + 0.000*odinga + 0.000*election + 0.000*tanzania + 0.000*president + 0.000*friendship + 0.000*minister + 0.000*two',\n",
       " u'0.038*election + 0.029*zanzibar + 0.024*zec + 0.020*electoral + 0.013*also + 0.013*presidential + 0.010*temco + 0.010*annulment + 0.010*including + 0.010*government',\n",
       " u'0.000*public + 0.000*police + 0.000*said + 0.000*election + 0.000*human + 0.000*development + 0.000*rights + 0.000*people + 0.000*es + 0.000*chadema',\n",
       " u'0.000*said + 0.000*chadema + 0.000*government + 0.000*elections + 0.000*lowassa + 0.000*police + 0.000*ukawa + 0.000*mcc + 0.000*mbowe + 0.000*candidate',\n",
       " u'0.000*said + 0.000*election + 0.000*nec + 0.000*would + 0.000*general + 0.000*results + 0.000*per + 0.000*free + 0.000*national + 0.000*allow',\n",
       " u'0.000*zanzibar + 0.000*said + 0.000*government + 0.000*party + 0.000*also + 0.000*revolution + 0.000*constituency + 0.000*karume + 0.000*political + 0.000*people',\n",
       " u'0.026*stamps + 0.026*old + 0.025*centres + 0.023*said + 0.022*without + 0.022*poling + 0.022*morogoro + 0.018*use + 0.018*voting + 0.017*involving']"
      ]
     },
     "execution_count": 70,
     "metadata": {},
     "output_type": "execute_result"
    }
   ],
   "source": [
    "highest_scoring_topics"
   ]
  },
  {
   "cell_type": "code",
   "execution_count": 71,
   "metadata": {
    "collapsed": false
   },
   "outputs": [
    {
     "data": {
      "text/plain": [
       "[[0.0106, 0.0043, 0.0077],\n",
       " [0.0212, 0.0, 0.0116],\n",
       " [0.0275, 0.0, 0.0119],\n",
       " [0.0222, 0.0, 0.0115],\n",
       " [0.0203, 0.0, 0.0078],\n",
       " [0.0248, 0.0, 0.0103],\n",
       " [0.0187, 0.0, 0.0068],\n",
       " [0.0271, 0.0, 0.0068],\n",
       " [0.02, 0.0, 0.006],\n",
       " [0.0228, 0.0, 0.0092],\n",
       " [0.0437, 0.0, 0.0112],\n",
       " [0.0298, 0.0, 0.0039],\n",
       " [0.0327, 0.0, 0.0066],\n",
       " [0.0218, 0.0, 0.0056],\n",
       " [0.0061, 0.0, 0.0006],\n",
       " [0.0347, 0.0, 0.0059],\n",
       " [0.0322, 0.0, 0.0039],\n",
       " [0.0142, 0.0, 0.0026],\n",
       " [0.0193, 0.0, 0.0055],\n",
       " [0.0235, 0.0, 0.0103],\n",
       " [0.0268, 0.0, 0.0082]]"
      ]
     },
     "execution_count": 71,
     "metadata": {},
     "output_type": "execute_result"
    }
   ],
   "source": [
    "scores"
   ]
  },
  {
   "cell_type": "code",
   "execution_count": 72,
   "metadata": {
    "collapsed": false
   },
   "outputs": [
    {
     "data": {
      "text/plain": [
       "0.0437"
      ]
     },
     "execution_count": 72,
     "metadata": {},
     "output_type": "execute_result"
    }
   ],
   "source": [
    "highest_score"
   ]
  },
  {
   "cell_type": "code",
   "execution_count": 73,
   "metadata": {
    "collapsed": false
   },
   "outputs": [
    {
     "data": {
      "text/plain": [
       "[u'0.018*un + 0.018*zanzibar + 0.016*tanzania + 0.014*election + 0.013*eu + 0.013*elections + 0.012*electoral + 0.011*observers + 0.011*country + 0.011*mission',\n",
       " u'0.021*said + 0.014*dr + 0.012*makaidi + 0.011*process + 0.010*elections + 0.009*political + 0.008*headed + 0.008*electoral + 0.008*government + 0.007*national',\n",
       " u'0.028*election + 0.011*rights + 0.011*petitions + 0.010*elections + 0.010*public + 0.009*human + 0.008*said + 0.007*national + 0.007*would + 0.007*people',\n",
       " u'0.031*us + 0.015*nyerere + 0.013*god + 0.009*like + 0.009*founding + 0.008*state + 0.006*power + 0.006*bin + 0.006*attested + 0.006*hemed',\n",
       " u'0.036*metres + 0.010*ruling + 0.010*forbidden + 0.010*amy + 0.009*200 + 0.008*correct + 0.007*meeting + 0.007*day + 0.007*centre + 0.007*candidate',\n",
       " u'0.014*filikunjombe + 0.014*would + 0.013*candidate + 0.009*parliamentary + 0.009*away + 0.008*constituency + 0.008*public + 0.008*deo + 0.008*mwalimu + 0.007*peace',\n",
       " u'0.054*accused + 0.030*alleged + 0.025*information + 0.021*public + 0.017*published + 0.016*election + 0.015*prosecution + 0.012*2015 + 0.011*mtei + 0.011*mislead',\n",
       " u'0.023*media + 0.016*peace + 0.012*per + 0.011*cent + 0.010*rwanda + 0.009*q + 0.009*education + 0.009*school + 0.007*genocide + 0.007*tra',\n",
       " u'0.021*court + 0.019*petition + 0.019*stay + 0.017*said + 0.015*200 + 0.015*polling + 0.014*section + 0.014*right + 0.014*voters + 0.013*commission',\n",
       " u'0.000*said + 0.000*dr + 0.000*government + 0.000*election + 0.000*people + 0.000*president + 0.000*magufuli + 0.000*chadema + 0.000*party + 0.000*would']"
      ]
     },
     "execution_count": 73,
     "metadata": {},
     "output_type": "execute_result"
    }
   ],
   "source": [
    "lowest_scoring_topics"
   ]
  },
  {
   "cell_type": "code",
   "execution_count": 74,
   "metadata": {
    "collapsed": false
   },
   "outputs": [
    {
     "data": {
      "text/plain": [
       "[[u'0.012*election + 0.009*tanzania + 0.009*observers + 0.008*elections + 0.008*eu + 0.007*said + 0.007*mission + 0.006*zanzibar + 0.006*0 + 0.006*country',\n",
       "  u'0.017*said + 0.010*ccm + 0.008*dr + 0.007*party + 0.007*election + 0.007*lowassa + 0.007*magufuli + 0.006*people + 0.006*president + 0.006*government',\n",
       "  u'0.015*police + 0.012*election + 0.009*said + 0.007*nec + 0.006*would + 0.006*zanzibar + 0.006*results + 0.006*electoral + 0.005*political + 0.005*public',\n",
       "  u'0.030*ccm + 0.026*chadema + 0.006*0 + 0.005*urban + 0.005*25 + 0.004*15 + 0.004*candidate + 0.004*parliamentary + 0.003*36 + 0.003*us',\n",
       "  u'0.021*said + 0.009*peace + 0.008*election + 0.007*tanzania + 0.007*country + 0.006*general + 0.006*loans + 0.006*government + 0.005*year + 0.005*elections',\n",
       "  u'0.013*urban + 0.007*shares + 0.007*turnover + 0.006*per + 0.006*cent + 0.006*said + 0.005*week + 0.005*rural + 0.004*dse + 0.004*total',\n",
       "  u'0.023*said + 0.016*election + 0.010*zanzibar + 0.008*results + 0.007*government + 0.007*would + 0.006*also + 0.006*people + 0.005*general + 0.005*presidential',\n",
       "  u'0.007*dollar + 0.007*shilling + 0.007*us + 0.006*electoral + 0.005*election + 0.005*said + 0.005*exchange + 0.004*petitions + 0.004*bank + 0.004*bot',\n",
       "  u'0.007*president + 0.006*joshua + 0.005*tb + 0.005*minister + 0.004*african + 0.004*state + 0.003*term + 0.003*votes + 0.003*auabc + 0.003*continent',\n",
       "  u'0.019*votes + 0.018*per + 0.017*cent + 0.016*ccm + 0.015*chadema + 0.006*got + 0.005*darts + 0.004*1 + 0.003*followed + 0.003*parliamentary'],\n",
       " [u'0.018*un + 0.018*zanzibar + 0.016*tanzania + 0.014*election + 0.013*eu + 0.013*elections + 0.012*electoral + 0.011*observers + 0.011*country + 0.011*mission',\n",
       "  u'0.021*said + 0.014*dr + 0.012*makaidi + 0.011*process + 0.010*elections + 0.009*political + 0.008*headed + 0.008*electoral + 0.008*government + 0.007*national',\n",
       "  u'0.028*election + 0.011*rights + 0.011*petitions + 0.010*elections + 0.010*public + 0.009*human + 0.008*said + 0.007*national + 0.007*would + 0.007*people',\n",
       "  u'0.031*us + 0.015*nyerere + 0.013*god + 0.009*like + 0.009*founding + 0.008*state + 0.006*power + 0.006*bin + 0.006*attested + 0.006*hemed',\n",
       "  u'0.036*metres + 0.010*ruling + 0.010*forbidden + 0.010*amy + 0.009*200 + 0.008*correct + 0.007*meeting + 0.007*day + 0.007*centre + 0.007*candidate',\n",
       "  u'0.014*filikunjombe + 0.014*would + 0.013*candidate + 0.009*parliamentary + 0.009*away + 0.008*constituency + 0.008*public + 0.008*deo + 0.008*mwalimu + 0.007*peace',\n",
       "  u'0.054*accused + 0.030*alleged + 0.025*information + 0.021*public + 0.017*published + 0.016*election + 0.015*prosecution + 0.012*2015 + 0.011*mtei + 0.011*mislead',\n",
       "  u'0.023*media + 0.016*peace + 0.012*per + 0.011*cent + 0.010*rwanda + 0.009*q + 0.009*education + 0.009*school + 0.007*genocide + 0.007*tra',\n",
       "  u'0.021*court + 0.019*petition + 0.019*stay + 0.017*said + 0.015*200 + 0.015*polling + 0.014*section + 0.014*right + 0.014*voters + 0.013*commission',\n",
       "  u'0.000*said + 0.000*dr + 0.000*government + 0.000*election + 0.000*people + 0.000*president + 0.000*magufuli + 0.000*chadema + 0.000*party + 0.000*would'],\n",
       " [u'0.017*said + 0.016*election + 0.013*results + 0.013*nec + 0.012*commission + 0.011*voters + 0.010*polling + 0.009*national + 0.008*stations + 0.008*registered',\n",
       "  u'0.000*said + 0.000*dr + 0.000*ccm + 0.000*per + 0.000*government + 0.000*power + 0.000*zanzibar + 0.000*shein + 0.000*votes + 0.000*one',\n",
       "  u'0.011*two + 0.011*us + 0.008*dollar + 0.008*shilling + 0.008*president + 0.006*exchange + 0.005*political + 0.005*see + 0.005*also + 0.005*bot',\n",
       "  u'0.015*tcra + 0.009*hacked + 0.009*yesterday + 0.009*police + 0.007*hacking + 0.007*leaked + 0.007*accounts + 0.007*online + 0.007*media + 0.007*mwapachu',\n",
       "  u'0.055*urban + 0.024*rural + 0.021*constituencies + 0.012*west + 0.012*east + 0.012*ccm + 0.011*said + 0.009*north + 0.009*chaos + 0.009*kilwa',\n",
       "  u'0.016*magufuli + 0.015*dr + 0.013*must + 0.013*understand + 0.013*lowassa + 0.013*candidate + 0.013*us + 0.008*period + 0.008*two + 0.008*five',\n",
       "  u'0.021*said + 0.014*magufuli + 0.014*ccm + 0.011*pinda + 0.010*also + 0.009*bagamoyo + 0.009*chalinze + 0.009*town + 0.009*candidate + 0.009*dr',\n",
       "  u'0.048*president + 0.045*bill + 0.034*referendum + 0.031*new + 0.027*pending + 0.024*2015 + 0.022*constitution + 0.017*tola + 0.016*assembly + 0.011*ignore',\n",
       "  u'0.023*said + 0.016*ukawa + 0.015*nec + 0.013*polling + 0.013*president + 0.011*election + 0.011*tallying + 0.011*voters + 0.009*agents + 0.009*must',\n",
       "  u'0.014*said + 0.014*per + 0.013*political + 0.011*candidates + 0.011*cent + 0.010*examination + 0.008*firms + 0.008*school + 0.007*privatised + 0.007*necta'],\n",
       " [u'0.016*said + 0.012*magufuli + 0.010*election + 0.010*media + 0.009*years + 0.008*country + 0.007*dar + 0.007*salaam + 0.007*es + 0.007*elections',\n",
       "  u'0.019*election + 0.017*said + 0.011*general + 0.010*elections + 0.008*tanzania + 0.008*nec + 0.007*religious + 0.007*day + 0.007*chadema + 0.006*people',\n",
       "  u'0.000*said + 0.000*education + 0.000*centre + 0.000*tanzania + 0.000*dr + 0.000*public + 0.000*magufuli + 0.000*election + 0.000*development + 0.000*nec',\n",
       "  u'0.038*tolerance + 0.030*political + 0.016*society + 0.015*views + 0.012*way + 0.010*ideas + 0.010*culture + 0.009*others + 0.009*rights + 0.008*country',\n",
       "  u'0.027*zanzibar + 0.018*decision + 0.018*election + 0.016*cuf + 0.015*zec + 0.015*said + 0.014*police + 0.011*issued + 0.010*nullify + 0.010*general',\n",
       "  u'0.037*votes + 0.012*got + 0.011*ccm + 0.011*said + 0.011*per + 0.011*cent + 0.010*water + 0.009*also + 0.009*kahama + 0.009*chadema',\n",
       "  u'0.000*tea + 0.000*election + 0.000*said + 0.000*tanzania + 0.000*urban + 0.000*general + 0.000*observers + 0.000*political + 0.000*year + 0.000*would',\n",
       "  u'0.023*president + 0.017*airport + 0.016*election + 0.015*construction + 0.014*observers + 0.014*terminal + 0.012*also + 0.010*government + 0.010*moved + 0.010*told',\n",
       "  u'0.076*ccm + 0.071*chadema + 0.012*25 + 0.011*urban + 0.009*18 + 0.009*45 + 0.009*28 + 0.009*36 + 0.009*15 + 0.007*32',\n",
       "  u'0.032*would + 0.022*mwalimu + 0.020*said + 0.016*nyerere + 0.015*party + 0.015*politicians + 0.010*years + 0.010*many + 0.008*today + 0.007*julius'],\n",
       " [u'0.029*eac + 0.028*mission + 0.021*tanzania + 0.018*election + 0.015*members + 0.015*national + 0.015*elections + 0.014*electoral + 0.013*partner + 0.013*2015',\n",
       "  u'0.016*filikunjombe + 0.016*assembly + 0.013*parliament + 0.013*candidate + 0.013*speaker + 0.012*national + 0.011*president + 0.011*said + 0.011*minister + 0.009*yesterday',\n",
       "  u'0.028*president + 0.028*bill + 0.022*2015 + 0.021*pending + 0.021*referendum + 0.020*new + 0.018*said + 0.016*constitution + 0.015*tanzania + 0.014*year',\n",
       "  u'0.000*said + 0.000*tea + 0.000*election + 0.000*ccm + 0.000*general + 0.000*per + 0.000*peace + 0.000*vuai + 0.000*kg + 0.000*parties',\n",
       "  u'0.000*ccm + 0.000*chadema + 0.000*said + 0.000*election + 0.000*24 + 0.000*45 + 0.000*urban + 0.000*voters + 0.000*peace + 0.000*dr',\n",
       "  u'0.000*said + 0.000*election + 0.000*zanzibar + 0.000*government + 0.000*dr + 0.000*presidential + 0.000*zec + 0.000*also + 0.000*political + 0.000*mtikila',\n",
       "  u'0.027*election + 0.020*human + 0.017*rights + 0.016*statement + 0.016*act + 0.013*heads + 0.013*mission + 0.013*centre + 0.011*freedoms + 0.011*cyber',\n",
       "  u'0.019*minister + 0.012*constituency + 0.012*votes + 0.011*also + 0.011*elections + 0.010*office + 0.009*election + 0.009*peace + 0.009*term + 0.008*said',\n",
       "  u'0.000*said + 0.000*government + 0.000*public + 0.000*would + 0.000*election + 0.000*mbulu + 0.000*water + 0.000*safe + 0.000*clean + 0.000*party',\n",
       "  u'0.000*election + 0.000*electoral + 0.000*parties + 0.000*seats + 0.000*women + 0.000*elections + 0.000*special + 0.000*zanzibar + 0.000*parliamentary + 0.000*zec'],\n",
       " [u'0.000*0 + 0.000*nra + 0.000*updp + 0.000*act + 0.000*ccm + 0.000*adc + 0.000*chadema + 0.000*tlp + 0.000*chauma + 0.000*1',\n",
       "  u'0.044*loans + 0.035*students + 0.034*said + 0.025*year + 0.021*applicants + 0.019*heslb + 0.017*loan + 0.017*government + 0.016*applications + 0.016*2016',\n",
       "  u'0.000*said + 0.000*candidate + 0.000*would + 0.000*arusha + 0.000*presidential + 0.000*parliamentary + 0.000*tanzania + 0.000*results + 0.000*urban + 0.000*passed',\n",
       "  u'0.000*said + 0.000*president + 0.000*would + 0.000*general + 0.000*national + 0.000*nec + 0.000*election + 0.000*new + 0.000*government + 0.000*elections',\n",
       "  u'0.040*nec + 0.039*said + 0.027*media + 0.024*election + 0.021*electoral + 0.019*general + 0.017*information + 0.014*end + 0.014*tv + 0.013*well',\n",
       "  u'0.037*party + 0.020*ccm + 0.018*one + 0.014*opposition + 0.014*ruling + 0.012*political + 0.009*dr + 0.009*candidate + 0.008*ground + 0.008*survey',\n",
       "  u'0.043*petition + 0.036*asked + 0.028*respondent + 0.021*late + 0.021*file + 0.021*reply + 0.021*monday + 0.021*director + 0.018*2 + 0.018*today',\n",
       "  u'0.041*change + 0.020*ukawa + 0.019*dr + 0.015*ccm + 0.013*magufuli + 0.012*candidate + 0.012*party + 0.011*manifesto + 0.011*election + 0.011*constitution',\n",
       "  u'0.000*odinga + 0.000*magufuli + 0.000*political + 0.000*friendship + 0.000*two + 0.000*president + 0.000*leaders + 0.000*minister + 0.000*ruling + 0.000*kenyan',\n",
       "  u'0.000*zanzibar + 0.000*said + 0.000*election + 0.000*development + 0.000*zec + 0.000*president + 0.000*would + 0.000*tanzania + 0.000*results + 0.000*government'],\n",
       " [u'0.000*electoral + 0.000*election + 0.000*petitions + 0.000*said + 0.000*judiciary + 0.000*zanzibar + 0.000*judges + 0.000*noted + 0.000*handle + 0.000*time',\n",
       "  u'0.028*said + 0.013*minister + 0.011*ccm + 0.011*chadema + 0.011*election + 0.010*government + 0.009*votes + 0.008*general + 0.008*would + 0.008*made',\n",
       "  u'0.048*women + 0.021*silayo + 0.016*said + 0.016*part + 0.016*process + 0.016*water + 0.016*challenges + 0.016*electoral + 0.011*election + 0.011*would',\n",
       "  u'0.033*election + 0.025*security + 0.024*results + 0.021*zanzibar + 0.020*centre + 0.019*zec + 0.013*presidential + 0.012*monday + 0.010*claims + 0.010*hamad',\n",
       "  u'0.000*zanzibar + 0.000*lowassa + 0.000*former + 0.000*information + 0.000*president + 0.000*magufuli + 0.000*general + 0.000*presidential + 0.000*candidate + 0.000*today',\n",
       "  u'0.000*said + 0.000*government + 0.000*zanzibar + 0.000*also + 0.000*election + 0.000*general + 0.000*ccm + 0.000*cards + 0.000*vuai + 0.000*commission',\n",
       "  u'0.000*dr + 0.000*said + 0.000*people + 0.000*government + 0.000*party + 0.000*general + 0.000*first + 0.000*leaders + 0.000*parliament + 0.000*commission',\n",
       "  u'0.000*0 + 0.000*ccm + 0.000*chadema + 0.000*election + 0.000*party + 0.000*public + 0.000*would + 0.000*voters + 0.000*political + 0.000*nec',\n",
       "  u'0.025*ccm + 0.024*iringa + 0.021*party + 0.020*votes + 0.020*urban + 0.019*secured + 0.016*candidate + 0.014*members + 0.013*seat + 0.013*use',\n",
       "  u'0.000*ccm + 0.000*chadema + 0.000*time + 0.000*presidential + 0.000*election + 0.000*said + 0.000*would + 0.000*people + 0.000*political + 0.000*well'],\n",
       " [u'0.000*president + 0.000*sudan + 0.000*affairs + 0.000*foreign + 0.000*said + 0.000*peace + 0.000*prof + 0.000*ghandour + 0.000*tanzania + 0.000*election',\n",
       "  u'0.000*per + 0.000*tcra + 0.000*cent + 0.000*election + 0.000*lowassa + 0.000*said + 0.000*public + 0.000*hacked + 0.000*would + 0.000*police',\n",
       "  u'0.000*reaction + 0.000*apathy + 0.000*exploitation + 0.000*trial + 0.000*foster + 0.000*robbery + 0.000*lawlessness + 0.000*steal + 0.000*intensify + 0.000*marine',\n",
       "  u'0.014*lowassa + 0.012*chadema + 0.012*general + 0.012*joshua + 0.012*information + 0.012*njoku + 0.010*media + 0.010*presidential + 0.010*said + 0.010*former',\n",
       "  u'0.030*turnover + 0.022*week + 0.022*per + 0.020*said + 0.019*cent + 0.018*total + 0.017*market + 0.016*trading + 0.016*foreign + 0.015*dse',\n",
       "  u'0.000*said + 0.000*president + 0.000*country + 0.000*well + 0.000*capital + 0.000*dodoma + 0.000*development + 0.000*tanzania + 0.000*us + 0.000*media',\n",
       "  u'0.000*election + 0.000*said + 0.000*ccm + 0.000*president + 0.000*chadema + 0.000*dr + 0.000*peace + 0.000*votes + 0.000*shein + 0.000*national',\n",
       "  u'0.042*rally + 0.037*lowassa + 0.033*political + 0.025*es + 0.024*dar + 0.024*constitution + 0.023*police + 0.022*salaam + 0.021*sargentin + 0.020*former',\n",
       "  u'0.012*eac + 0.012*tanzania + 0.012*said + 0.011*mission + 0.010*election + 0.010*political + 0.010*women + 0.009*ccm + 0.009*october + 0.009*electoral',\n",
       "  u'0.000*election + 0.000*would + 0.000*said + 0.000*president + 0.000*public + 0.000*ccm + 0.000*campaign + 0.000*presidential + 0.000*government + 0.000*zanzibar'],\n",
       " [u'0.020*said + 0.017*turnover + 0.016*tanzania + 0.015*per + 0.013*week + 0.012*cent + 0.012*trading + 0.011*us + 0.011*total + 0.010*foreign',\n",
       "  u'0.022*people + 0.018*said + 0.016*ccm + 0.014*would + 0.010*election + 0.010*state + 0.009*dr + 0.009*party + 0.008*also + 0.008*candidate',\n",
       "  u'0.000*0 + 0.000*chadema + 0.000*ccm + 0.000*act + 0.000*nra + 0.000*chauma + 0.000*statement + 0.000*board + 0.000*1 + 0.000*tanzania',\n",
       "  u'0.000*uhuru + 0.000*torch + 0.000*race + 0.000*projects + 0.000*national + 0.000*nation + 0.000*people + 0.000*one + 0.000*often + 0.000*said',\n",
       "  u'0.000*0 + 0.000*tea + 0.000*1 + 0.000*15 + 0.000*said + 0.000*us + 0.000*nra + 0.000*act + 0.000*public + 0.000*chadema',\n",
       "  u'0.018*tanzania + 0.018*government + 0.015*mcc + 0.015*compact + 0.014*said + 0.013*statement + 0.013*board + 0.013*energy + 0.012*us + 0.012*zanzibar',\n",
       "  u'0.000*tanzania + 0.000*elections + 0.000*election + 0.000*mission + 0.000*eac + 0.000*said + 0.000*dr + 0.000*political + 0.000*party + 0.000*general',\n",
       "  u'0.000*said + 0.000*es + 0.000*salaam + 0.000*ukawa + 0.000*wards + 0.000*dar + 0.000*government + 0.000*election + 0.000*lowassa + 0.000*people',\n",
       "  u'0.000*said + 0.000*upcountry + 0.000*services + 0.000*would + 0.000*election + 0.000*people + 0.000*participate + 0.000*allow + 0.000*es + 0.000*however',\n",
       "  u'0.020*suspicious + 0.020*man + 0.020*despite + 0.020*decided + 0.020*due + 0.020*sam + 0.020*seek + 0.020*ubungo + 0.020*identities + 0.020*back'],\n",
       " [u'0.025*said + 0.024*peace + 0.018*fruits + 0.016*farmers + 0.015*country + 0.014*parties + 0.014*mutungi + 0.014*hamad + 0.012*political + 0.010*lives',\n",
       "  u'0.000*0 + 0.000*act + 0.000*election + 0.000*ccm + 0.000*adc + 0.000*zanzibar + 0.000*1 + 0.000*zec + 0.000*results + 0.000*updp',\n",
       "  u'0.021*magufuli + 0.021*votes + 0.014*tanzania + 0.013*said + 0.013*dr + 0.012*president + 0.009*8 + 0.008*university + 0.008*resources + 0.007*education',\n",
       "  u'0.028*vuai + 0.024*ccm + 0.024*said + 0.019*campaign + 0.019*election + 0.014*party + 0.014*general + 0.014*per + 0.014*cent + 0.014*opposition',\n",
       "  u'0.000*petition + 0.000*said + 0.000*court + 0.000*respondent + 0.000*stay + 0.000*voting + 0.000*asked + 0.000*nec + 0.000*petitioner + 0.000*election',\n",
       "  u'0.017*darts + 0.013*journalists + 0.011*national + 0.011*john + 0.011*lives + 0.011*two + 0.010*regions + 0.010*general + 0.010*mda + 0.010*tada',\n",
       "  u'0.000*said + 0.000*zec + 0.000*election + 0.000*commonwealth + 0.000*nec + 0.000*elections + 0.000*results + 0.000*would + 0.000*tanzania + 0.000*ukawa',\n",
       "  u'0.022*corruption + 0.015*magufuli + 0.011*rather + 0.011*like + 0.009*tax + 0.009*question + 0.009*lowassa + 0.008*ccm + 0.008*one + 0.007*wrong',\n",
       "  u'0.000*petition + 0.000*election + 0.000*change + 0.000*court + 0.000*right + 0.000*respondent + 0.000*dr + 0.000*general + 0.000*stay + 0.000*commission',\n",
       "  u'0.039*nec + 0.029*results + 0.024*political + 0.023*election + 0.021*commission + 0.020*chairman + 0.020*presidential + 0.018*council + 0.018*electoral + 0.016*figures'],\n",
       " [u'0.027*said + 0.024*ccm + 0.016*government + 0.012*election + 0.012*local + 0.011*leaders + 0.011*general + 0.011*campaign + 0.011*vuai + 0.010*opposition',\n",
       "  u'0.060*ccm + 0.060*also + 0.053*campaign + 0.052*years + 0.046*power + 0.041*many + 0.035*tanzanians + 0.031*make + 0.030*need + 0.029*magufuli',\n",
       "  u'0.021*said + 0.017*government + 0.017*shares + 0.015*sale + 0.014*two + 0.012*lowassa + 0.011*firms + 0.010*budget + 0.010*campaigns + 0.010*sumaye',\n",
       "  u'0.000*political + 0.000*magufuli + 0.000*said + 0.000*odinga + 0.000*election + 0.000*tanzania + 0.000*president + 0.000*friendship + 0.000*minister + 0.000*two',\n",
       "  u'0.038*election + 0.029*zanzibar + 0.024*zec + 0.020*electoral + 0.013*also + 0.013*presidential + 0.010*temco + 0.010*annulment + 0.010*including + 0.010*government',\n",
       "  u'0.000*public + 0.000*police + 0.000*said + 0.000*election + 0.000*human + 0.000*development + 0.000*rights + 0.000*people + 0.000*es + 0.000*chadema',\n",
       "  u'0.000*said + 0.000*chadema + 0.000*government + 0.000*elections + 0.000*lowassa + 0.000*police + 0.000*ukawa + 0.000*mcc + 0.000*mbowe + 0.000*candidate',\n",
       "  u'0.000*said + 0.000*election + 0.000*nec + 0.000*would + 0.000*general + 0.000*results + 0.000*per + 0.000*free + 0.000*national + 0.000*allow',\n",
       "  u'0.000*zanzibar + 0.000*said + 0.000*government + 0.000*party + 0.000*also + 0.000*revolution + 0.000*constituency + 0.000*karume + 0.000*political + 0.000*people',\n",
       "  u'0.026*stamps + 0.026*old + 0.025*centres + 0.023*said + 0.022*without + 0.022*poling + 0.022*morogoro + 0.018*use + 0.018*voting + 0.017*involving'],\n",
       " [u'0.042*materials + 0.036*papers + 0.036*distributed + 0.036*ballot + 0.032*voting + 0.030*nec + 0.025*candidates + 0.024*said + 0.019*examples + 0.018*election',\n",
       "  u'0.000*zanzibar + 0.000*government + 0.000*karume + 0.000*us + 0.000*revolutionary + 0.000*party + 0.000*election + 0.000*sultan + 0.000*political + 0.000*revolution',\n",
       "  u'0.000*said + 0.000*cards + 0.000*cuf + 0.000*zanzibar + 0.000*fruits + 0.000*farmers + 0.000*dr + 0.000*also + 0.000*hamad + 0.000*election',\n",
       "  u'0.000*said + 0.000*election + 0.000*would + 0.000*results + 0.000*also + 0.000*lowassa + 0.000*accused + 0.000*public + 0.000*government + 0.000*tanzania',\n",
       "  u'0.000*said + 0.000*results + 0.000*would + 0.000*nec + 0.000*election + 0.000*centre + 0.000*polling + 0.000*government + 0.000*ccm + 0.000*stations',\n",
       "  u'0.000*ccm + 0.000*coalition + 0.000*change + 0.000*ukawa + 0.000*people + 0.000*national + 0.000*election + 0.000*one + 0.000*political + 0.000*presidential',\n",
       "  u'0.000*chadema + 0.000*ccm + 0.000*magufuli + 0.000*lowassa + 0.000*also + 0.000*presidential + 0.000*opposition + 0.000*campaign + 0.000*tabora + 0.000*corruption',\n",
       "  u'0.000*said + 0.000*elections + 0.000*development + 0.000*ccm + 0.000*government + 0.000*tanzania + 0.000*people + 0.000*zanzibar + 0.000*also + 0.000*dr',\n",
       "  u'0.046*james + 0.046*contender + 0.000*2012 + 0.000*bank + 0.000*hawkers + 0.000*petty + 0.000*kahama + 0.000*lake + 0.000*economic + 0.000*lowassa',\n",
       "  u'0.000*us + 0.000*nyerere + 0.000*god + 0.000*like + 0.000*nation + 0.000*leaders + 0.000*founding + 0.000*state + 0.000*regard + 0.000*hemed'],\n",
       " [u'0.000*us + 0.000*nyerere + 0.000*god + 0.000*state + 0.000*people + 0.000*founding + 0.000*country + 0.000*like + 0.000*political + 0.000*elections',\n",
       "  u'0.000*government + 0.000*promised + 0.000*countrys + 0.000*lowassa + 0.000*also + 0.000*well + 0.000*would + 0.000*said + 0.000*improve + 0.000*taxes',\n",
       "  u'0.062*results + 0.038*accept + 0.035*vote + 0.034*hamad + 0.030*unity + 0.030*gnu + 0.027*shein + 0.025*ali + 0.024*government + 0.022*winning',\n",
       "  u'0.049*zanzibar + 0.035*said + 0.033*cuf + 0.028*election + 0.025*seif + 0.024*also + 0.023*hamad + 0.020*zec + 0.019*presidential + 0.019*isles',\n",
       "  u'0.000*media + 0.000*peace + 0.000*q + 0.000*party + 0.000*former + 0.000*would + 0.000*rwanda + 0.000*campaign + 0.000*political + 0.000*genocide',\n",
       "  u'0.000*ccm + 0.000*said + 0.000*magufuli + 0.000*water + 0.000*president + 0.000*dr + 0.000*cent + 0.000*addressing + 0.000*election + 0.000*minister',\n",
       "  u'0.000*contributions + 0.000*public + 0.000*said + 0.000*tcra + 0.000*chadema + 0.000*salaam + 0.000*yesterday + 0.000*come + 0.000*hacked + 0.000*lowassa',\n",
       "  u'0.053*shield + 0.000*president + 0.000*said + 0.000*cent + 0.000*election + 0.000*national + 0.000*per + 0.000*magufuli + 0.000*stadium + 0.000*boycott',\n",
       "  u'0.000*ccm + 0.000*said + 0.000*chadema + 0.000*election + 0.000*accused + 0.000*dr + 0.000*eu + 0.000*party + 0.000*would + 0.000*zanzibar',\n",
       "  u'0.000*dollar + 0.000*exchange + 0.000*us + 0.000*shilling + 0.000*2015 + 0.000*bot + 0.000*foreign + 0.000*economy + 0.000*rate + 0.000*depreciation'],\n",
       " [u'0.030*joly + 0.030*shillings + 0.030*november + 0.028*may + 0.025*economic + 0.015*unit + 0.015*2138 + 0.015*suffering + 0.015*141 + 0.015*ballooning',\n",
       "  u'0.000*said + 0.000*electricity + 0.000*government + 0.000*per + 0.000*power + 0.000*zanzibar + 0.000*water + 0.000*000 + 0.000*dr + 0.000*zeco',\n",
       "  u'0.000*mostly + 0.000*elections + 0.000*free + 0.000*vote + 0.000*country + 0.000*time + 0.000*tanzania + 0.000*past + 0.000*politics + 0.000*people',\n",
       "  u'0.033*president + 0.028*bill + 0.025*new + 0.021*said + 0.020*2015 + 0.019*referendum + 0.016*pending + 0.015*year + 0.014*constitution + 0.014*national',\n",
       "  u'0.000*lowassa + 0.000*would + 0.000*government + 0.000*presidential + 0.000*nec + 0.000*said + 0.000*zanzibar + 0.000*votes + 0.000*people + 0.000*saying',\n",
       "  u'0.000*said + 0.000*construction + 0.000*government + 0.000*zanzibar + 0.000*tcra + 0.000*airport + 0.000*dr + 0.000*terminal + 0.000*yesterday + 0.000*fence',\n",
       "  u'0.000*peace + 0.000*people + 0.000*political + 0.000*election + 0.000*said + 0.000*police + 0.000*parties + 0.000*nation + 0.000*tanzania + 0.000*fair',\n",
       "  u'0.000*accused + 0.000*certificate + 0.000*election + 0.000*court + 0.000*bail + 0.000*interest + 0.000*would + 0.000*public + 0.000*safety + 0.000*said',\n",
       "  u'0.029*party + 0.021*ruling + 0.018*one + 0.014*ccm + 0.013*dr + 0.013*opposition + 0.009*candidate + 0.007*country + 0.007*jennings + 0.007*aspirant',\n",
       "  u'0.000*said + 0.000*city + 0.000*country + 0.000*government + 0.000*also + 0.000*dr + 0.000*change + 0.000*would + 0.000*project + 0.000*see'],\n",
       " [u'0.000*us + 0.000*tea + 0.000*tanzania + 0.000*kg + 0.000*like + 0.000*2013 + 0.000*nyerere + 0.000*compared + 0.000*god + 0.000*percent',\n",
       "  u'0.000*said + 0.000*services + 0.000*would + 0.000*tanzania + 0.000*election + 0.000*people + 0.000*development + 0.000*dar + 0.000*salaam + 0.000*peace',\n",
       "  u'0.000*said + 0.000*president + 0.000*election + 0.000*new + 0.000*year + 0.000*bill + 0.000*2015 + 0.000*tanzania + 0.000*constitution + 0.000*pending',\n",
       "  u'0.000*funeral + 0.000*passed + 0.000*month + 0.000*made + 0.000*kombani + 0.000*september + 0.000*today + 0.000*office + 0.000*elected + 0.000*treatment',\n",
       "  u'0.000*people + 0.000*said + 0.000*would + 0.000*stations + 0.000*voters + 0.000*commission + 0.000*bvr + 0.000*registered + 0.000*government + 0.000*polling',\n",
       "  u'0.000*political + 0.000*people + 0.000*elections + 0.000*system + 0.000*one + 0.000*public + 0.000*party + 0.000*peoples + 0.000*politicians + 0.000*competition',\n",
       "  u'0.000*mission + 0.000*eu + 0.000*electoral + 0.000*zanzibar + 0.000*parliament + 0.000*european + 0.000*tanzania + 0.000*observation + 0.000*elections + 0.000*peaceful',\n",
       "  u'0.061*jumbes + 0.000*tea + 0.000*zanzibar + 0.000*votes + 0.000*said + 0.000*ccm + 0.000*chadema + 0.000*government + 0.000*15 + 0.000*kg',\n",
       "  u'0.000*said + 0.000*president + 0.000*zanzibar + 0.000*isles + 0.000*state + 0.000*hamad + 0.000*two + 0.000*zec + 0.000*crisis + 0.000*also',\n",
       "  u'0.000*said + 0.000*china + 0.000*quality + 0.000*products + 0.000*world + 0.000*tanzania + 0.000*chinese + 0.000*industrialisation + 0.000*economy + 0.000*standards'],\n",
       " [u'0.000*votes + 0.000*magufuli + 0.000*said + 0.000*dr + 0.000*tanzania + 0.000*salaam + 0.000*education + 0.000*resources + 0.000*need + 0.000*development',\n",
       "  u'0.014*elections + 0.013*free + 0.013*people + 0.012*witnessed + 0.011*fair + 0.011*election + 0.009*tanzanians + 0.008*transparent + 0.008*peaceful + 0.008*time',\n",
       "  u'0.000*said + 0.000*per + 0.000*president + 0.000*turnover + 0.000*foreign + 0.000*cent + 0.000*election + 0.000*week + 0.000*market + 0.000*october',\n",
       "  u'0.000*said + 0.000*water + 0.000*per + 0.000*government + 0.000*electricity + 0.000*power + 0.000*000 + 0.000*zanzibar + 0.000*project + 0.000*pemba',\n",
       "  u'0.000*candidates + 0.000*said + 0.000*debate + 0.000*eu + 0.000*mission + 0.000*political + 0.000*questions + 0.000*parties + 0.000*election + 0.000*elections',\n",
       "  u'0.000*votes + 0.000*chadema + 0.000*ccm + 0.000*said + 0.000*per + 0.000*election + 0.000*police + 0.000*mcc + 0.000*25 + 0.000*compact',\n",
       "  u'0.000*tea + 0.000*said + 0.000*party + 0.000*kg + 0.000*tanzania + 0.000*police + 0.000*campaign + 0.000*auction + 0.000*equivalent + 0.000*act',\n",
       "  u'0.000*tea + 0.000*said + 0.000*change + 0.000*tanzania + 0.000*party + 0.000*would + 0.000*ccm + 0.000*former + 0.000*ukawa + 0.000*campaign',\n",
       "  u'0.098*election + 0.045*said + 0.034*nec + 0.033*voters + 0.025*registered + 0.024*working + 0.022*peace + 0.022*challenges + 0.022*commission + 0.022*hamid',\n",
       "  u'0.022*filikunjombe + 0.017*said + 0.016*candidate + 0.016*deo + 0.012*minister + 0.011*ludewa + 0.011*dar + 0.011*es + 0.011*salaam + 0.010*mp'],\n",
       " [u'0.000*reaction + 0.000*apathy + 0.000*exploitation + 0.000*trial + 0.000*foster + 0.000*robbery + 0.000*lawlessness + 0.000*steal + 0.000*intensify + 0.000*marine',\n",
       "  u'0.000*zanzibar + 0.000*government + 0.000*revolution + 0.000*karume + 0.000*political + 0.000*revolutionary + 0.000*party + 0.000*would + 0.000*president + 0.000*became',\n",
       "  u'0.069*jobless + 0.000*mistake + 0.000*said + 0.000*dr + 0.000*idle + 0.000*contracts + 0.000*ccm + 0.000*magufuli + 0.000*firms + 0.000*presidential',\n",
       "  u'0.000*change + 0.000*ukawa + 0.000*ccm + 0.000*party + 0.000*election + 0.000*dr + 0.000*magufuli + 0.000*electoral + 0.000*sangara + 0.000*electorate',\n",
       "  u'0.000*president + 0.000*sudan + 0.000*affairs + 0.000*ghandour + 0.000*minister + 0.000*country + 0.000*peace + 0.000*tanzania + 0.000*prof + 0.000*foreign',\n",
       "  u'0.000*infrastructure + 0.000*people + 0.000*development + 0.000*zanzibar + 0.000*election + 0.000*transport + 0.000*public + 0.000*presidential + 0.000*would + 0.000*results',\n",
       "  u'0.051*eu + 0.049*election + 0.038*observers + 0.031*mission + 0.027*observation + 0.027*eom + 0.026*european + 0.026*tanzania + 0.024*dar + 0.023*term',\n",
       "  u'0.000*ccm + 0.000*chadema + 0.000*election + 0.000*zanzibar + 0.000*said + 0.000*government + 0.000*political + 0.000*president + 0.000*persons + 0.000*disabilities',\n",
       "  u'0.000*reaction + 0.000*apathy + 0.000*exploitation + 0.000*trial + 0.000*foster + 0.000*robbery + 0.000*lawlessness + 0.000*steal + 0.000*intensify + 0.000*marine',\n",
       "  u'0.000*said + 0.000*election + 0.000*zec + 0.000*zanzibar + 0.000*media + 0.000*also + 0.000*peace + 0.000*general + 0.000*results + 0.000*presidential'],\n",
       " [u'0.000*minister + 0.000*constituency + 0.000*votes + 0.000*parliamentary + 0.000*dr + 0.000*election + 0.000*since + 0.000*lost + 0.000*seat + 0.000*government',\n",
       "  u'0.000*said + 0.000*youth + 0.000*bavicha + 0.000*ccm + 0.000*nec + 0.000*political + 0.000*council + 0.000*peace + 0.000*parties + 0.000*party',\n",
       "  u'0.000*election + 0.000*said + 0.000*peace + 0.000*country + 0.000*held + 0.000*general + 0.000*called + 0.000*vice + 0.000*tanzanians + 0.000*free',\n",
       "  u'0.000*said + 0.000*media + 0.000*election + 0.000*public + 0.000*country + 0.000*centre + 0.000*general + 0.000*information + 0.000*peace + 0.000*voter',\n",
       "  u'0.000*said + 0.000*lowassa + 0.000*chadema + 0.000*former + 0.000*government + 0.000*changes + 0.000*health + 0.000*tanzanians + 0.000*education + 0.000*better',\n",
       "  u'0.000*party + 0.000*zanzibar + 0.000*ruling + 0.000*ccm + 0.000*one + 0.000*government + 0.000*political + 0.000*would + 0.000*dr + 0.000*karume',\n",
       "  u'0.000*zanzibar + 0.000*said + 0.000*election + 0.000*kibamba + 0.000*government + 0.000*opposition + 0.000*according + 0.000*water + 0.000*es + 0.000*ccm',\n",
       "  u'0.020*said + 0.015*government + 0.014*public + 0.014*categories + 0.011*media + 0.011*procurement + 0.009*journalists + 0.009*compete + 0.007*leaders + 0.007*new',\n",
       "  u'0.000*us + 0.000*god + 0.000*nyerere + 0.000*nation + 0.000*africa + 0.000*like + 0.000*father + 0.000*state + 0.000*country + 0.000*given',\n",
       "  u'0.019*ccm + 0.019*said + 0.015*party + 0.015*chadema + 0.015*people + 0.015*four + 0.011*politicians + 0.011*members + 0.011*development + 0.011*resident'],\n",
       " [u'0.000*said + 0.000*nec + 0.000*president + 0.000*ukawa + 0.000*election + 0.000*voters + 0.000*centres + 0.000*polling + 0.000*stations + 0.000*must',\n",
       "  u'0.000*voters + 0.000*polling + 0.000*said + 0.000*nec + 0.000*station + 0.000*materials + 0.000*voting + 0.000*mnyika + 0.000*elections + 0.000*cast',\n",
       "  u'0.000*chaos + 0.000*said + 0.000*constituencies + 0.000*arrested + 0.000*msangi + 0.000*monday + 0.000*people + 0.000*mbozi + 0.000*creating + 0.000*274',\n",
       "  u'0.000*president + 0.000*state + 0.000*magufuli + 0.000*dr + 0.000*government + 0.000*officials + 0.000*minister + 0.000*party + 0.000*made + 0.000*office',\n",
       "  u'0.000*police + 0.000*said + 0.000*party + 0.000*tallying + 0.000*ruling + 0.000*lowassa + 0.000*nec + 0.000*people + 0.000*dar + 0.000*working',\n",
       "  u'0.000*would + 0.000*people + 0.000*government + 0.000*said + 0.000*land + 0.000*health + 0.000*agriculture + 0.000*expected + 0.000*candidate + 0.000*property',\n",
       "  u'0.000*said + 0.000*seats + 0.000*election + 0.000*cent + 0.000*eid + 0.000*special + 0.000*hajj + 0.000*el + 0.000*general + 0.000*peace',\n",
       "  u'0.034*candidates + 0.026*debate + 0.026*said + 0.021*parties + 0.018*political + 0.018*voters + 0.014*opportunity + 0.013*two + 0.012*may + 0.011*questions',\n",
       "  u'0.030*peace + 0.025*parties + 0.020*country + 0.020*said + 0.018*election + 0.016*good + 0.016*political + 0.014*vuai + 0.014*ccm + 0.014*mutungi',\n",
       "  u'0.044*police + 0.022*supporters + 0.015*announcement + 0.015*cuf + 0.014*declare + 0.011*results + 0.011*zec + 0.011*victory + 0.011*streets + 0.011*tear'],\n",
       " [u'0.000*zanzibar + 0.000*government + 0.000*said + 0.000*firms + 0.000*party + 0.000*karume + 0.000*revolution + 0.000*political + 0.000*revolutionary + 0.000*leading',\n",
       "  u'0.032*results + 0.024*vote + 0.022*nec + 0.022*polling + 0.022*presidential + 0.021*process + 0.019*stations + 0.018*election + 0.018*figures + 0.016*time',\n",
       "  u'0.057*ccm + 0.038*party + 0.031*lowassa + 0.023*said + 0.016*mwapachu + 0.015*ruling + 0.015*african + 0.014*peoples + 0.013*move + 0.013*stand',\n",
       "  u'0.000*reaction + 0.000*apathy + 0.000*exploitation + 0.000*trial + 0.000*foster + 0.000*robbery + 0.000*lawlessness + 0.000*steal + 0.000*intensify + 0.000*marine',\n",
       "  u'0.024*water + 0.022*would + 0.021*candidates + 0.015*candidate + 0.015*campaigns + 0.014*election + 0.011*person + 0.011*nation + 0.011*one + 0.011*presidential',\n",
       "  u'0.000*said + 0.000*government + 0.000*leaders + 0.000*lowassa + 0.000*ccm + 0.000*free + 0.000*would + 0.000*nation + 0.000*sumaye + 0.000*make',\n",
       "  u'0.034*bridge + 0.028*construction + 0.028*said + 0.025*eng + 0.022*msemo + 0.019*completed + 0.015*mkapa + 0.015*nssf + 0.015*project + 0.012*year',\n",
       "  u'0.000*election + 0.000*results + 0.000*said + 0.000*officer + 0.000*police + 0.000*people + 0.000*returning + 0.000*iringa + 0.000*media + 0.000*peace',\n",
       "  u'0.000*mohamed + 0.000*accused + 0.000*mbagala + 0.000*hamis + 0.000*court + 0.000*2m + 0.000*jumanne + 0.000*ballot + 0.000*said + 0.000*also',\n",
       "  u'0.035*election + 0.029*said + 0.024*commission + 0.022*zanzibar + 0.021*president + 0.020*chairman + 0.020*results + 0.014*zec + 0.014*reps + 0.013*nullify'],\n",
       " [u'0.041*prayers + 0.034*peace + 0.033*special + 0.032*region + 0.025*said + 0.025*rains + 0.025*electricity + 0.021*country + 0.016*shortage + 0.016*polls',\n",
       "  u'0.044*police + 0.028*resident + 0.028*area + 0.017*station + 0.015*chadema + 0.010*misime + 0.010*party + 0.010*officer + 0.010*law + 0.010*businessman',\n",
       "  u'0.000*election + 0.000*said + 0.000*results + 0.000*police + 0.000*rights + 0.000*human + 0.000*national + 0.000*nec + 0.000*centre + 0.000*political',\n",
       "  u'0.000*said + 0.000*election + 0.000*es + 0.000*dar + 0.000*political + 0.000*cuf + 0.000*parties + 0.000*salaam + 0.000*ccm + 0.000*president',\n",
       "  u'0.025*corruption + 0.022*auabc + 0.021*term + 0.017*two + 0.016*chairperson + 0.013*office + 0.013*said + 0.013*elections + 0.013*states + 0.013*batidam',\n",
       "  u'0.031*nec + 0.029*voters + 0.023*chadema + 0.020*election + 0.020*registered + 0.018*efforts + 0.017*according + 0.016*electoral + 0.016*one + 0.016*party',\n",
       "  u'0.000*reaction + 0.000*apathy + 0.000*exploitation + 0.000*trial + 0.000*foster + 0.000*robbery + 0.000*lawlessness + 0.000*steal + 0.000*intensify + 0.000*marine',\n",
       "  u'0.000*election + 0.000*accused + 0.000*alleged + 0.000*information + 0.000*ccm + 0.000*votes + 0.000*prosecution + 0.000*public + 0.000*published + 0.000*dr',\n",
       "  u'0.000*said + 0.000*region + 0.000*ward + 0.000*district + 0.000*mwombeji + 0.000*ballot + 0.000*accident + 0.000*police + 0.000*looking + 0.000*boxes',\n",
       "  u'0.000*said + 0.000*election + 0.000*electoral + 0.000*elections + 0.000*petitions + 0.000*country + 0.000*noted + 0.000*zanzibar + 0.000*political + 0.000*time']]"
      ]
     },
     "execution_count": 74,
     "metadata": {},
     "output_type": "execute_result"
    }
   ],
   "source": [
    "all_topics"
   ]
  },
  {
   "cell_type": "code",
   "execution_count": 77,
   "metadata": {
    "collapsed": false
   },
   "outputs": [
    {
     "data": {
      "text/plain": [
       "[[0.0106, 0.0043, 0.0077],\n",
       " [0.0212, 0.0, 0.0116],\n",
       " [0.0275, 0.0, 0.0119],\n",
       " [0.0222, 0.0, 0.0115],\n",
       " [0.0203, 0.0, 0.0078],\n",
       " [0.0248, 0.0, 0.0103],\n",
       " [0.0187, 0.0, 0.0068],\n",
       " [0.0271, 0.0, 0.0068],\n",
       " [0.02, 0.0, 0.006],\n",
       " [0.0228, 0.0, 0.0092],\n",
       " [0.0437, 0.0, 0.0112],\n",
       " [0.0298, 0.0, 0.0039],\n",
       " [0.0327, 0.0, 0.0066],\n",
       " [0.0218, 0.0, 0.0056],\n",
       " [0.0061, 0.0, 0.0006],\n",
       " [0.0347, 0.0, 0.0059],\n",
       " [0.0322, 0.0, 0.0039],\n",
       " [0.0142, 0.0, 0.0026],\n",
       " [0.0193, 0.0, 0.0055],\n",
       " [0.0235, 0.0, 0.0103],\n",
       " [0.0268, 0.0, 0.0082]]"
      ]
     },
     "execution_count": 77,
     "metadata": {},
     "output_type": "execute_result"
    }
   ],
   "source": [
    "scores"
   ]
  },
  {
   "cell_type": "code",
   "execution_count": 80,
   "metadata": {
    "collapsed": false
   },
   "outputs": [
    {
     "name": "stdout",
     "output_type": "stream",
     "text": [
      "203 artciles\n"
     ]
    }
   ],
   "source": [
    "# lda_ready_articles have stopwords removed, each document is an\n",
    "# article as a list of words \n",
    "# only articles that contain the word \"election\" are included\n",
    "\n",
    "with open(\"lda_ready_articles/daily_news.json\", \"rb\") as infile:\n",
    "    articles = json.load(infile)\n",
    "\n",
    "print \"%s artciles\" % len(articles)\n",
    "    \n",
    "dictionary = corpora.Dictionary(articles)\n",
    "corpus = [dictionary.doc2bow(a) for a in articles]"
   ]
  },
  {
   "cell_type": "code",
   "execution_count": 81,
   "metadata": {
    "collapsed": false
   },
   "outputs": [
    {
     "name": "stdout",
     "output_type": "stream",
     "text": [
      "training LDA: 10 topics\n",
      "training LDA: 60 topics\n",
      "training LDA: 110 topics\n",
      "training LDA: 160 topics\n",
      "training LDA: 210 topics\n",
      "training LDA: 260 topics\n",
      "training LDA: 310 topics\n",
      "training LDA: 360 topics\n",
      "training LDA: 410 topics\n",
      "training LDA: 460 topics\n",
      "training LDA: 510 topics\n",
      "training LDA: 560 topics\n",
      "training LDA: 610 topics\n",
      "training LDA: 660 topics\n",
      "training LDA: 710 topics\n",
      "training LDA: 760 topics\n",
      "training LDA: 810 topics\n",
      "training LDA: 860 topics\n",
      "training LDA: 910 topics\n",
      "training LDA: 960 topics\n",
      "training LDA: 1010 topics\n"
     ]
    }
   ],
   "source": [
    "scores = []\n",
    "high_scores = []\n",
    "low_scores = []\n",
    "mean_scores = []\n",
    "all_topics = []\n",
    "highest_score = 0\n",
    "lowest_score = 1\n",
    "highest_scoring_topics = []\n",
    "lowest_scoring_topics = []\n",
    "\n",
    "for i in range(10, 1011, 50):\n",
    "    print \"training LDA: %s topics\" % i\n",
    "    lda = models.LdaModel(corpus=corpus, id2word=dictionary, num_topics = i, update_every=0, passes=50)\n",
    "    topics = lda.show_topics()\n",
    "    topic_scores = score_topics(topics)\n",
    "    \n",
    "    if topic_scores[0] > highest_score:\n",
    "        highest_score = topic_scores[0]\n",
    "        highest_scoring_topics = topics\n",
    "    if topic_scores[1] < lowest_score:\n",
    "        lowest_score = topic_scores[1]\n",
    "        lowest_scoring_topics = topics\n",
    "    \n",
    "    scores.append(topic_scores)\n",
    "    high_scores.append(topic_scores[0])\n",
    "    low_scores.append(topic_scores[1])\n",
    "    mean_scores.append(topic_scores[2])\n",
    "    all_topics.append(topics)"
   ]
  },
  {
   "cell_type": "code",
   "execution_count": 82,
   "metadata": {
    "collapsed": false
   },
   "outputs": [
    {
     "data": {
      "text/plain": [
       "[u'0.000*demonstrations + 0.000*shall + 0.000*said + 0.000*police + 0.000*city + 0.000*chadema + 0.000*request + 0.000*es + 0.000*salaam + 0.000*force',\n",
       " u'0.000*said + 0.000*election + 0.000*ensure + 0.000*candidate + 0.000*magufuli + 0.000*would + 0.000*also + 0.000*voters + 0.000*kigoma + 0.000*dr',\n",
       " u'0.091*mageuzi + 0.080*nccr + 0.069*seems + 0.068*question + 0.064*problem + 0.062*four + 0.046*emmanuel + 0.046*regard + 0.046*present + 0.045*come',\n",
       " u'0.020*tanzania + 0.018*million + 0.018*population + 0.016*national + 0.015*census + 0.015*registration + 0.015*government + 0.014*exercise + 0.013*including + 0.012*voters',\n",
       " u'0.000*cuf + 0.000*ccm + 0.000*ms + 0.000*results + 0.000*3 + 0.000*2 + 0.000*constituencies + 0.000*votes + 0.000*4 + 0.000*released',\n",
       " u'0.000*dr + 0.000*president + 0.000*magufuli + 0.000*ccm + 0.000*elect + 0.000*election + 0.000*victory + 0.000*bukoba + 0.000*time + 0.000*tanzanians',\n",
       " u'0.000*police + 0.000*burnt + 0.000*district + 0.000*election + 0.000*mr + 0.000*people + 0.000*various + 0.000*suspects + 0.000*car + 0.000*msangi',\n",
       " u'0.000*per + 0.000*cent + 0.000*citizens + 0.000*said + 0.000*year + 0.000*people + 0.000*election + 0.000*parties + 0.000*respondents + 0.000*candidate',\n",
       " u'0.000*people + 0.000*peace + 0.000*president + 0.000*hajj + 0.000*idd + 0.000*pilgrims + 0.000*mina + 0.000*mr + 0.000*place + 0.000*saudi',\n",
       " u'0.030*nation + 0.023*country + 0.015*conflicts + 0.013*need + 0.012*tanzania + 0.012*years + 0.012*defeat + 0.012*50 + 0.012*refugees + 0.011*unity']"
      ]
     },
     "execution_count": 82,
     "metadata": {},
     "output_type": "execute_result"
    }
   ],
   "source": [
    "highest_scoring_topics"
   ]
  },
  {
   "cell_type": "code",
   "execution_count": 87,
   "metadata": {
    "collapsed": false
   },
   "outputs": [
    {
     "data": {
      "text/plain": [
       "[[0.011, 0.0053, 0.0081],\n",
       " [0.0121, 0.0, 0.007],\n",
       " [0.0242, 0.0, 0.0097],\n",
       " [0.0191, 0.0, 0.0118],\n",
       " [0.0238, 0.0, 0.0124],\n",
       " [0.0204, 0.0, 0.0065],\n",
       " [0.0273, 0.0, 0.0096],\n",
       " [0.0286, 0.0, 0.0124],\n",
       " [0.0228, 0.0, 0.0146],\n",
       " [0.0297, 0.0, 0.0047],\n",
       " [0.0224, 0.0, 0.004],\n",
       " [0.0219, 0.0, 0.0086],\n",
       " [0.029, 0.0, 0.0083],\n",
       " [0.0617, 0.0, 0.0093],\n",
       " [0.0277, 0.0, 0.0092],\n",
       " [0.0417, 0.0, 0.0042],\n",
       " [0.0327, 0.0, 0.0055],\n",
       " [0.0215, 0.0, 0.0022],\n",
       " [0.0201, 0.0, 0.0074],\n",
       " [0.0, 0.0, 0.0],\n",
       " [0.0289, 0.0, 0.0049]]"
      ]
     },
     "execution_count": 87,
     "metadata": {},
     "output_type": "execute_result"
    }
   ],
   "source": [
    "scores"
   ]
  },
  {
   "cell_type": "code",
   "execution_count": 88,
   "metadata": {
    "collapsed": false
   },
   "outputs": [
    {
     "data": {
      "text/plain": [
       "0.0617"
      ]
     },
     "execution_count": 88,
     "metadata": {},
     "output_type": "execute_result"
    }
   ],
   "source": [
    "highest_score"
   ]
  },
  {
   "cell_type": "code",
   "execution_count": 89,
   "metadata": {
    "collapsed": false
   },
   "outputs": [
    {
     "data": {
      "text/plain": [
       "[u'0.051*voting + 0.036*results + 0.035*nec + 0.033*said + 0.030*vote + 0.025*electoral + 0.023*stations + 0.022*centres + 0.022*political + 0.020*commission',\n",
       " u'0.000*mtikila + 0.000*mr + 0.000*rev + 0.000*said + 0.000*president + 0.000*hospital + 0.000*dr + 0.000*death + 0.000*cuf + 0.000*dar',\n",
       " u'0.000*magufuli + 0.000*said + 0.000*post + 0.000*told + 0.000*special + 0.000*government + 0.000*committee + 0.000*better + 0.000*campaign + 0.000*ccm',\n",
       " u'0.000*votes + 0.000*dr + 0.000*mr + 0.000*act + 0.000*magufuli + 0.000*ccm + 0.000*road + 0.000*got + 0.000*cuf + 0.000*lowassa',\n",
       " u'0.024*nation + 0.024*people + 0.019*general + 0.019*peace + 0.019*political + 0.019*one + 0.015*matter + 0.010*well + 0.010*explosive + 0.010*exemplary',\n",
       " u'0.000*said + 0.000*votes + 0.000*mr + 0.000*ccm + 0.000*country + 0.000*government + 0.000*dr + 0.000*magufuli + 0.000*candidate + 0.000*ceo',\n",
       " u'0.000*mr + 0.000*votes + 0.000*chadema + 0.000*urban + 0.000*ccm + 0.000*district + 0.000*got + 0.000*results + 0.000*constituency + 0.000*officer',\n",
       " u'0.000*party + 0.000*said + 0.000*ukawa + 0.000*partys + 0.000*people + 0.000*coalition + 0.000*mr + 0.000*parties + 0.000*tibanyendera + 0.000*constituencies',\n",
       " u'0.000*ccm + 0.000*said + 0.000*candidate + 0.000*opposition + 0.000*party + 0.000*ms + 0.000*dr + 0.000*parliamentary + 0.000*presidential + 0.000*magufuli',\n",
       " u'0.000*komu + 0.000*mr + 0.000*campaigns + 0.000*said + 0.000*committee + 0.000*mwanahalisi + 0.000*manushi + 0.000*chami + 0.000*october + 0.000*dr']"
      ]
     },
     "execution_count": 89,
     "metadata": {},
     "output_type": "execute_result"
    }
   ],
   "source": [
    "all_topics[9]"
   ]
  },
  {
   "cell_type": "code",
   "execution_count": 90,
   "metadata": {
    "collapsed": false
   },
   "outputs": [
    {
     "data": {
      "text/plain": [
       "0.0"
      ]
     },
     "execution_count": 90,
     "metadata": {},
     "output_type": "execute_result"
    }
   ],
   "source": [
    "lowest_score"
   ]
  },
  {
   "cell_type": "code",
   "execution_count": 92,
   "metadata": {
    "collapsed": false
   },
   "outputs": [
    {
     "name": "stdout",
     "output_type": "stream",
     "text": [
      "390 artciles\n"
     ]
    }
   ],
   "source": [
    "# lda_ready_articles have stopwords removed, each document is an\n",
    "# article as a list of words \n",
    "# only articles that contain the word \"uchaguzi\" are included\n",
    "\n",
    "with open(\"lda_ready_articles_sw/nipashe.json\", \"rb\") as infile:\n",
    "    articles = json.load(infile)\n",
    "\n",
    "print \"%s artciles\" % len(articles)\n",
    "    \n",
    "dictionary = corpora.Dictionary(articles)\n",
    "corpus = [dictionary.doc2bow(a) for a in articles]"
   ]
  },
  {
   "cell_type": "code",
   "execution_count": 93,
   "metadata": {
    "collapsed": true
   },
   "outputs": [],
   "source": [
    "lda = models.LdaModel(corpus=corpus, id2word=dictionary, num_topics = 500, update_every=0, passes=50)"
   ]
  },
  {
   "cell_type": "code",
   "execution_count": 94,
   "metadata": {
    "collapsed": false
   },
   "outputs": [
    {
     "data": {
      "text/plain": [
       "[u'0.024*isije + 0.024*inapita + 0.000*vigogo + 0.000*wa + 0.000*na + 0.000*ya + 0.000*ccm + 0.000*naweza + 0.000*katika + 0.000*jimbo',\n",
       " u'0.000*ya + 0.000*na + 0.000*wa + 0.000*kwa + 0.000*za + 0.000*katika + 0.000*la + 0.000*kuwa + 0.000*cha + 0.000*alisema',\n",
       " u'0.000*na + 0.000*kwa + 0.000*wa + 0.000*dk + 0.000*bunge + 0.000*ya + 0.000*abdallah + 0.000*zainabu + 0.000*mariam + 0.000*za',\n",
       " u'0.048*vituo + 0.045*na + 0.040*kura + 0.031*idadi + 0.025*ya + 0.022*alisema + 0.022*000 + 0.022*wa + 0.021*watu + 0.021*milioni',\n",
       " u'0.000*jecha + 0.000*hawajapewa + 0.000*waweza + 0.000*mikarafuuni + 0.000*mgharibi + 0.000*wamefariki + 0.000*wamefutwa + 0.000*kuita + 0.000*yarudishwe + 0.000*wanapofatilia',\n",
       " u'0.000*jimbo + 0.000*la + 0.000*wa + 0.000*ubunge + 0.000*mshindi + 0.000*ccm + 0.000*rasmi + 0.000*mgombea + 0.000*chadema + 0.000*hilo',\n",
       " u'0.049*wa + 0.037*ya + 0.037*na + 0.028*kwa + 0.018*uchaguzi + 0.018*amani + 0.015*alisema + 0.015*habari + 0.015*mkuu + 0.015*iringa',\n",
       " u'0.000*ya + 0.000*na + 0.000*kwa + 0.000*wa + 0.000*sh + 0.000*ni + 0.000*za + 0.000*serikali + 0.000*magufuli + 0.000*yake',\n",
       " u'0.000*na + 0.000*wa + 0.000*ya + 0.000*kwa + 0.000*alisema + 0.000*katika + 0.000*ni + 0.000*cha + 0.000*za + 0.000*la',\n",
       " u'0.000*jecha + 0.000*hawajapewa + 0.000*waweza + 0.000*mikarafuuni + 0.000*mgharibi + 0.000*wamefariki + 0.000*wamefutwa + 0.000*kuita + 0.000*yarudishwe + 0.000*wanapofatilia']"
      ]
     },
     "execution_count": 94,
     "metadata": {},
     "output_type": "execute_result"
    }
   ],
   "source": [
    "lda.show_topics()"
   ]
  },
  {
   "cell_type": "code",
   "execution_count": 95,
   "metadata": {
    "collapsed": false
   },
   "outputs": [
    {
     "name": "stdout",
     "output_type": "stream",
     "text": [
      "177 artciles\n"
     ]
    }
   ],
   "source": [
    "# lda_ready_articles have stopwords removed, each document is an\n",
    "# article as a list of words \n",
    "# only articles that contain the word \"uchaguzi\" are included\n",
    "\n",
    "with open(\"lda_ready_articles_sw/habarileo.json\", \"rb\") as infile:\n",
    "    articles = json.load(infile)\n",
    "\n",
    "print \"%s artciles\" % len(articles)\n",
    "    \n",
    "dictionary = corpora.Dictionary(articles)\n",
    "corpus = [dictionary.doc2bow(a) for a in articles]"
   ]
  },
  {
   "cell_type": "code",
   "execution_count": 96,
   "metadata": {
    "collapsed": true
   },
   "outputs": [],
   "source": [
    "lda = models.LdaModel(corpus=corpus, id2word=dictionary, num_topics = 500, update_every=0, passes=50)"
   ]
  },
  {
   "cell_type": "code",
   "execution_count": 97,
   "metadata": {
    "collapsed": false
   },
   "outputs": [
    {
     "data": {
      "text/plain": [
       "[u'0.032*kukiri + 0.032*kuelezea + 0.032*itamenyana + 0.032*inaongoza + 0.032*imani + 0.000*na + 0.000*wa + 0.000*ya + 0.000*katika + 0.000*kwa',\n",
       " u'0.000*wa + 0.000*na + 0.000*ya + 0.000*kwa + 0.000*la + 0.000*katika + 0.000*kuwa + 0.000*cha + 0.000*uchaguzi + 0.000*kura',\n",
       " u'0.000*na + 0.000*wa + 0.000*ya + 0.000*kwa + 0.000*ni + 0.000*katika + 0.000*ccm + 0.000*la + 0.000*jimbo + 0.000*kura',\n",
       " u'0.000*anampongeza + 0.000*kukabidhiwa + 0.000*yaliyompa + 0.000*kuombwa + 0.000*wanavyomthamini + 0.000*mnenikabidhi + 0.000*kumwalika + 0.000*kukwama + 0.000*aliyomuandalia + 0.000*muigai',\n",
       " u'0.080*wa + 0.078*jimbo + 0.060*wanawake + 0.058*la + 0.043*ni + 0.041*ccm + 0.040*waziri + 0.038*aliyekuwa + 0.037*ubunge + 0.033*viti',\n",
       " u'0.000*na + 0.000*ya + 0.000*wa + 0.000*kwa + 0.000*rais + 0.000*anasema + 0.000*katika + 0.000*kikwete + 0.000*kenya + 0.000*watoto',\n",
       " u'0.000*na + 0.000*wa + 0.000*ya + 0.000*kwa + 0.000*katika + 0.000*alisema + 0.000*kampeni + 0.000*cha + 0.000*ni + 0.000*chama',\n",
       " u'0.000*ya + 0.000*alisema + 0.000*kwa + 0.000*watu + 0.000*wa + 0.000*geita + 0.000*na + 0.000*la + 0.000*magufuli + 0.000*katika',\n",
       " u'0.000*wa + 0.000*na + 0.000*katika + 0.000*ya + 0.000*kwa + 0.000*kuwa + 0.000*dk + 0.000*mwenyekiti + 0.000*makaidi + 0.000*mwenza',\n",
       " u'0.063*na + 0.033*ya + 0.033*wa + 0.031*serikali + 0.028*za + 0.024*utalii + 0.022*maliasili + 0.021*nyalandu + 0.018*jitihada + 0.018*ujangili']"
      ]
     },
     "execution_count": 97,
     "metadata": {},
     "output_type": "execute_result"
    }
   ],
   "source": [
    "lda.show_topics()"
   ]
  },
  {
   "cell_type": "code",
   "execution_count": null,
   "metadata": {
    "collapsed": true
   },
   "outputs": [],
   "source": []
  }
 ],
 "metadata": {
  "kernelspec": {
   "display_name": "Python 2",
   "language": "python",
   "name": "python2"
  },
  "language_info": {
   "codemirror_mode": {
    "name": "ipython",
    "version": 2
   },
   "file_extension": ".py",
   "mimetype": "text/x-python",
   "name": "python",
   "nbconvert_exporter": "python",
   "pygments_lexer": "ipython2",
   "version": "2.7.6"
  }
 },
 "nbformat": 4,
 "nbformat_minor": 0
}
