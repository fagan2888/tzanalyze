{
 "cells": [
  {
   "cell_type": "code",
   "execution_count": 11,
   "metadata": {
    "collapsed": true
   },
   "outputs": [],
   "source": [
    "import logging\n",
    "logging.basicConfig(format='%(asctime)s : %(levelname)s : %(message)s', level=logging.INFO)"
   ]
  },
  {
   "cell_type": "code",
   "execution_count": 12,
   "metadata": {
    "collapsed": true
   },
   "outputs": [],
   "source": [
    "import json\n",
    "import re\n",
    "from gensim import corpora, similarities, models"
   ]
  },
  {
   "cell_type": "code",
   "execution_count": 13,
   "metadata": {
    "collapsed": false
   },
   "outputs": [
    {
     "name": "stdout",
     "output_type": "stream",
     "text": [
      "4935 articles\n"
     ]
    }
   ],
   "source": [
    "articles = []\n",
    "english_publications = ['guardian', 'daily_news', 'citizen']\n",
    "for pub in english_publications:\n",
    "    with open(\"lda_ready_articles/%s.json\" % pub, \"rb\") as infile:\n",
    "        articles.extend(json.load(infile))\n",
    "    \n",
    "bigram = models.Phrases(articles)\n",
    "bigram_articles = bigram[articles]\n",
    "\n",
    "print \"%s articles\" % len(articles)\n",
    "    \n",
    "dictionary = corpora.Dictionary(bigram_articles)\n",
    "corpus = [dictionary.doc2bow(a) for a in bigram_articles]"
   ]
  },
  {
   "cell_type": "code",
   "execution_count": 14,
   "metadata": {
    "collapsed": false
   },
   "outputs": [],
   "source": [
    "lda = models.LdaModel(corpus=corpus, id2word=dictionary, num_topics = 100, alpha='auto', update_every=0, passes=50)"
   ]
  },
  {
   "cell_type": "code",
   "execution_count": 15,
   "metadata": {
    "collapsed": true
   },
   "outputs": [],
   "source": [
    "lda.save('english_100')"
   ]
  },
  {
   "cell_type": "code",
   "execution_count": 17,
   "metadata": {
    "collapsed": true
   },
   "outputs": [],
   "source": [
    "lda = models.LdaModel(corpus=corpus, id2word=dictionary, num_topics = 50, alpha='auto', update_every=0, passes=50)\n",
    "lda.save('english_50')"
   ]
  },
  {
   "cell_type": "code",
   "execution_count": 19,
   "metadata": {
    "collapsed": false
   },
   "outputs": [],
   "source": [
    "lda = models.LdaModel(corpus=corpus, id2word=dictionary, num_topics = 25, alpha='auto', update_every=0, passes=50)\n",
    "lda.save('english_25')"
   ]
  },
  {
   "cell_type": "code",
   "execution_count": 20,
   "metadata": {
    "collapsed": true
   },
   "outputs": [],
   "source": [
    "lda = models.LdaModel(corpus=corpus, id2word=dictionary, num_topics = 200, alpha='auto', update_every=0, passes=50)\n",
    "lda.save('english_200')"
   ]
  },
  {
   "cell_type": "code",
   "execution_count": 24,
   "metadata": {
    "collapsed": true
   },
   "outputs": [],
   "source": [
    "lda = models.LdaModel.load('english_25')"
   ]
  },
  {
   "cell_type": "code",
   "execution_count": 25,
   "metadata": {
    "collapsed": false
   },
   "outputs": [
    {
     "data": {
      "text/plain": [
       "[u'media',\n",
       " u'better',\n",
       " u'organised',\n",
       " u'deal',\n",
       " u'campaigns',\n",
       " u'since',\n",
       " u'ad',\n",
       " u'hoc',\n",
       " u'event',\n",
       " u'hope',\n",
       " u'done',\n",
       " u'job',\n",
       " u'planning',\n",
       " u'campaigns',\n",
       " u'well',\n",
       " u'advance',\n",
       " u'reminder',\n",
       " u'esteem',\n",
       " u'readers',\n",
       " u'counting',\n",
       " u'general',\n",
       " u'election',\n",
       " u'day',\n",
       " u'25',\n",
       " u'10',\n",
       " u'2015',\n",
       " u'important',\n",
       " u'electorate',\n",
       " u'take',\n",
       " u'heed',\n",
       " u'behaviour',\n",
       " u'presidential',\n",
       " u'hopefuls',\n",
       " u'history',\n",
       " u'making',\n",
       " u'going',\n",
       " u'back',\n",
       " u'stopped',\n",
       " u'last',\n",
       " u'week',\n",
       " u'discussions',\n",
       " u'trial',\n",
       " u'politically',\n",
       " u'motivated',\n",
       " u'victor',\n",
       " u'jefferson',\n",
       " u'opponent',\n",
       " u'burr',\n",
       " u'see',\n",
       " u'politicians',\n",
       " u'never',\n",
       " u'predicted',\n",
       " u'open',\n",
       " u'secret',\n",
       " u'two',\n",
       " u'leaders',\n",
       " u'party',\n",
       " u'adversaries',\n",
       " u'politics',\n",
       " u'cannot',\n",
       " u'stop',\n",
       " u'making',\n",
       " u'reference',\n",
       " u'local',\n",
       " u'politics',\n",
       " u'country',\n",
       " u'everyone',\n",
       " u'aware',\n",
       " u'intimate',\n",
       " u'friends',\n",
       " u'different',\n",
       " u'political',\n",
       " u'parties',\n",
       " u'recently',\n",
       " u'turned',\n",
       " u'political',\n",
       " u'foes',\n",
       " u'dont',\n",
       " u'really',\n",
       " u'explain',\n",
       " u'suffice',\n",
       " u'say',\n",
       " u'presidential',\n",
       " u'candidates',\n",
       " u'competing',\n",
       " u'ongoing',\n",
       " u'campaigns',\n",
       " u'one',\n",
       " u'time',\n",
       " u'party',\n",
       " u'sailing',\n",
       " u'together',\n",
       " u'though',\n",
       " u'clear',\n",
       " u'whether',\n",
       " u'shared',\n",
       " u'ideology',\n",
       " u'politicians',\n",
       " u'whether',\n",
       " u'left',\n",
       " u'right',\n",
       " u'always',\n",
       " u'learn',\n",
       " u'give',\n",
       " u'take',\n",
       " u'leaving',\n",
       " u'behind',\n",
       " u'biases',\n",
       " u'preconceived',\n",
       " u'ideas',\n",
       " u'end',\n",
       " u'day',\n",
       " u'choice',\n",
       " u'either',\n",
       " u'tell',\n",
       " u'truth',\n",
       " u'remain',\n",
       " u'hero',\n",
       " u'tell',\n",
       " u'lies',\n",
       " u'become',\n",
       " u'liability',\n",
       " u'party',\n",
       " u'political',\n",
       " u'challenges',\n",
       " u'end',\n",
       " u'elections',\n",
       " u'times',\n",
       " u'go',\n",
       " u'beyond',\n",
       " u'perceptions',\n",
       " u'well',\n",
       " u'documented',\n",
       " u'jefferson',\n",
       " u'president',\n",
       " u'us',\n",
       " u'gone',\n",
       " u'bounds',\n",
       " u'attack',\n",
       " u'judiciary',\n",
       " u'politically',\n",
       " u'motivated',\n",
       " u'even',\n",
       " u'worse',\n",
       " u'political',\n",
       " u'scientists',\n",
       " u'state',\n",
       " u'unethical',\n",
       " u'practices',\n",
       " u'incite',\n",
       " u'politicians',\n",
       " u'imaginations',\n",
       " u'emotions',\n",
       " u'example',\n",
       " u'imaginations',\n",
       " u'emotions',\n",
       " u'manifested',\n",
       " u'ongoing',\n",
       " u'campaigns',\n",
       " u'politicians',\n",
       " u'started',\n",
       " u'developing',\n",
       " u'frenzy',\n",
       " u'attitudes',\n",
       " u'unfortunate',\n",
       " u'claims',\n",
       " u'politicians',\n",
       " u'supporters',\n",
       " u'retrospective',\n",
       " u'deprivation',\n",
       " u'key',\n",
       " u'countrys',\n",
       " u'positions',\n",
       " u'based',\n",
       " u'religion',\n",
       " u'tribalism',\n",
       " u'claims',\n",
       " u'however',\n",
       " u'outcome',\n",
       " u'unethical',\n",
       " u'incitement',\n",
       " u'makes',\n",
       " u'people',\n",
       " u'feel',\n",
       " u'isolated',\n",
       " u'discriminated',\n",
       " u'coming',\n",
       " u'think',\n",
       " u'becomes',\n",
       " u'clear',\n",
       " u'imaginations',\n",
       " u'emotions',\n",
       " u'consequences',\n",
       " u'politicians',\n",
       " u'suffer',\n",
       " u'right',\n",
       " u'like',\n",
       " u'incitement',\n",
       " u'jefferson',\n",
       " u'suffered',\n",
       " u'time',\n",
       " u'taking',\n",
       " u'aaron',\n",
       " u'burr',\n",
       " u'enemy',\n",
       " u'panic',\n",
       " u'manifesting',\n",
       " u'ongoing',\n",
       " u'campaigns',\n",
       " u'therefore',\n",
       " u'began',\n",
       " u'pursuing',\n",
       " u'judges',\n",
       " u'whose',\n",
       " u'conduct',\n",
       " u'especially',\n",
       " u'outraged',\n",
       " u'republicans',\n",
       " u'felt',\n",
       " u'lifetime',\n",
       " u'tenure',\n",
       " u'judges',\n",
       " u'federal',\n",
       " u'judges',\n",
       " u'appeared',\n",
       " u'impervious',\n",
       " u'attack',\n",
       " u'jefferson',\n",
       " u'vendetta',\n",
       " u'p',\n",
       " u'71',\n",
       " u'learn',\n",
       " u'history',\n",
       " u'commencement',\n",
       " u'war',\n",
       " u'jefferson',\n",
       " u'constitution',\n",
       " u'departments',\n",
       " u'republican',\n",
       " u'newspaper',\n",
       " u'shrewdly',\n",
       " u'assayed',\n",
       " u'marbury',\n",
       " u'v',\n",
       " u'madisons',\n",
       " u'import',\n",
       " u'court',\n",
       " u'must',\n",
       " u'defeated',\n",
       " u'retreat',\n",
       " u'attack',\n",
       " u'march',\n",
       " u'till',\n",
       " u'incur',\n",
       " u'impeachment',\n",
       " u'removal',\n",
       " u'office',\n",
       " u'imaginations',\n",
       " u'emotions',\n",
       " u'limited',\n",
       " u'transformed',\n",
       " u'wickedness',\n",
       " u'example',\n",
       " u'jeffersons',\n",
       " u'vendetta',\n",
       " u'limited',\n",
       " u'burr',\n",
       " u'declared',\n",
       " u'war',\n",
       " u'federalists',\n",
       " u'jefferson',\n",
       " u'claimed',\n",
       " u'retired',\n",
       " u'judiciary',\n",
       " u'making',\n",
       " u'strong',\n",
       " u'hold',\n",
       " u'battery',\n",
       " u'works',\n",
       " u'republicanism',\n",
       " u'beaten',\n",
       " u'erased',\n",
       " u'paranoia',\n",
       " u'engulfed',\n",
       " u'party',\n",
       " u'ugly',\n",
       " u'side',\n",
       " u'shift',\n",
       " u'initial',\n",
       " u'respect',\n",
       " u'judiciary',\n",
       " u'described',\n",
       " u'1789',\n",
       " u'high',\n",
       " u'hopes',\n",
       " u'body',\n",
       " u'rendered',\n",
       " u'independent',\n",
       " u'kept',\n",
       " u'strictly',\n",
       " u'department',\n",
       " u'merits',\n",
       " u'great',\n",
       " u'confidence',\n",
       " u'learning',\n",
       " u'integrity',\n",
       " u'president',\n",
       " u'intended',\n",
       " u'reduce',\n",
       " u'judicial',\n",
       " u'stronghold',\n",
       " u'rubble',\n",
       " u'jeffersons',\n",
       " u'vendetta',\n",
       " u'pg',\n",
       " u'71',\n",
       " u'fact',\n",
       " u'time',\n",
       " u'jefferson',\n",
       " u'launched',\n",
       " u'several',\n",
       " u'impeachment',\n",
       " u'cases',\n",
       " u'judges',\n",
       " u'mostly',\n",
       " u'political',\n",
       " u'reasons',\n",
       " u'republicans',\n",
       " u'thomas',\n",
       " u'jefferson',\n",
       " u'led',\n",
       " u'impeachment',\n",
       " u'attack',\n",
       " u'samuel',\n",
       " u'chase',\n",
       " u'associate',\n",
       " u'justice',\n",
       " u'united',\n",
       " u'states',\n",
       " u'supreme',\n",
       " u'court',\n",
       " u'agenda',\n",
       " u'clearly',\n",
       " u'political',\n",
       " u'outcome',\n",
       " u'chases',\n",
       " u'trial',\n",
       " u'would',\n",
       " u'largely',\n",
       " u'determine',\n",
       " u'whether',\n",
       " u'judiciary',\n",
       " u'could',\n",
       " u'remain',\n",
       " u'independent',\n",
       " u'fly',\n",
       " u'jeffersons',\n",
       " u'ointment',\n",
       " u'would',\n",
       " u'vice',\n",
       " u'president',\n",
       " u'aaron',\n",
       " u'burr',\n",
       " u'march1805',\n",
       " u'chases',\n",
       " u'trial',\n",
       " u'began',\n",
       " u'united',\n",
       " u'states',\n",
       " u'senate',\n",
       " u'republicans',\n",
       " u'control',\n",
       " u'government',\n",
       " u'much',\n",
       " u'surprise',\n",
       " u'chase',\n",
       " u'kept',\n",
       " u'post',\n",
       " u'thanks',\n",
       " u'largely',\n",
       " u'vice',\n",
       " u'president',\n",
       " u'aaron',\n",
       " u'burr',\n",
       " u'republican',\n",
       " u'burr',\n",
       " u'wanted',\n",
       " u'shooting',\n",
       " u'alexander',\n",
       " u'hamilton',\n",
       " u'immune',\n",
       " u'prosecution',\n",
       " u'washington',\n",
       " u'dc',\n",
       " u'presiding',\n",
       " u'impeachment',\n",
       " u'duty',\n",
       " u'vice',\n",
       " u'president',\n",
       " u'jeffersons',\n",
       " u'vendetta',\n",
       " u'71',\n",
       " u'many',\n",
       " u'senators',\n",
       " u'judges',\n",
       " u'looked',\n",
       " u'upon',\n",
       " u'impeachment',\n",
       " u'trial',\n",
       " u'something',\n",
       " u'strange',\n",
       " u'politically',\n",
       " u'motivated',\n",
       " u'however',\n",
       " u'impressed',\n",
       " u'manner',\n",
       " u'burr',\n",
       " u'conducted',\n",
       " u'trial',\n",
       " u'noted',\n",
       " u'order',\n",
       " u'decorum',\n",
       " u'even',\n",
       " u'jeffersons',\n",
       " u'attempt',\n",
       " u'influence',\n",
       " u'burr',\n",
       " u'therefore',\n",
       " u'expected',\n",
       " u'electorate',\n",
       " u'learn',\n",
       " u'events',\n",
       " u'dramatised',\n",
       " u'jefferson',\n",
       " u'team',\n",
       " u'tenure',\n",
       " u'office',\n",
       " u'shrewd',\n",
       " u'candidates',\n",
       " u'put',\n",
       " u'check',\n",
       " u'slip',\n",
       " u'election',\n",
       " u'net',\n",
       " u'history',\n",
       " u'might',\n",
       " u'repeat',\n",
       " u'witnessing',\n",
       " u'politicians',\n",
       " u'already',\n",
       " u'paranoid',\n",
       " u'resorting',\n",
       " u'dirty',\n",
       " u'politics',\n",
       " u'careful',\n",
       " u'make',\n",
       " u'informed',\n",
       " u'decision',\n",
       " u'casting',\n",
       " u'vote',\n",
       " u'continued',\n",
       " u'next',\n",
       " u'week']"
      ]
     },
     "execution_count": 25,
     "metadata": {},
     "output_type": "execute_result"
    }
   ],
   "source": [
    "articles[999]"
   ]
  },
  {
   "cell_type": "code",
   "execution_count": 26,
   "metadata": {
    "collapsed": false
   },
   "outputs": [
    {
     "data": {
      "text/plain": [
       "[(7, 0.060274525455229981),\n",
       " (9, 0.23088889875824103),\n",
       " (14, 0.26542448856827894),\n",
       " (16, 0.44235905661829411)]"
      ]
     },
     "execution_count": 26,
     "metadata": {},
     "output_type": "execute_result"
    }
   ],
   "source": [
    "lda.get_document_topics(dictionary.doc2bow(articles[999]))"
   ]
  },
  {
   "cell_type": "code",
   "execution_count": 27,
   "metadata": {
    "collapsed": false
   },
   "outputs": [
    {
     "data": {
      "text/plain": [
       "[(0.0087345607818990895, u'ccm'),\n",
       " (0.0080271324302298597, u'party'),\n",
       " (0.0070650708951683055, u'people'),\n",
       " (0.0068260037402127953, u'would'),\n",
       " (0.0057498047081463426, u'election'),\n",
       " (0.0048656316961831628, u'elections'),\n",
       " (0.0044974782808848606, u'government'),\n",
       " (0.0044311646288212768, u'one'),\n",
       " (0.0043342332070001998, u'country'),\n",
       " (0.0041974856383732075, u'political'),\n",
       " (0.004109725141003307, u'candidates'),\n",
       " (0.0037392500041878588, u'chadema'),\n",
       " (0.0034466774937516784, u'opposition'),\n",
       " (0.0033562441569031593, u'voters'),\n",
       " (0.0032376651490258214, u'political_parties')]"
      ]
     },
     "execution_count": 27,
     "metadata": {},
     "output_type": "execute_result"
    }
   ],
   "source": [
    "lda.show_topic(16, topn=15)"
   ]
  },
  {
   "cell_type": "code",
   "execution_count": 28,
   "metadata": {
    "collapsed": false
   },
   "outputs": [
    {
     "data": {
      "text/plain": [
       "[(0.012955131359360742, u'mr'),\n",
       " (0.0049660273830753098, u'dar_es'),\n",
       " (0.0046842069541550317, u'speaker'),\n",
       " (0.0046387813158876379, u'parliament'),\n",
       " (0.0044420989518146785, u'salaam'),\n",
       " (0.0041253322598167712, u'mp'),\n",
       " (0.0041127961006849302, u'president'),\n",
       " (0.0039106001464386652, u'yesterday'),\n",
       " (0.0034183798717338158, u'government'),\n",
       " (0.0033427362953644701, u'minister'),\n",
       " (0.0032152111081327249, u'mps'),\n",
       " (0.0031613197778732225, u'former'),\n",
       " (0.0029101894748078897, u'house'),\n",
       " (0.0028815190698553987, u'dr'),\n",
       " (0.0028268088899789569, u'candidates')]"
      ]
     },
     "execution_count": 28,
     "metadata": {},
     "output_type": "execute_result"
    }
   ],
   "source": [
    "lda.show_topic(14, topn=15)"
   ]
  },
  {
   "cell_type": "code",
   "execution_count": 29,
   "metadata": {
    "collapsed": false
   },
   "outputs": [
    {
     "data": {
      "text/plain": [
       "[(0.0087182962366851354, u'one'),\n",
       " (0.0057810812907193839, u'people'),\n",
       " (0.0054756372159403465, u'would'),\n",
       " (0.0047016557423990146, u'like'),\n",
       " (0.0045155624400090143, u'time'),\n",
       " (0.0044919770365387576, u'even'),\n",
       " (0.0043010612105791827, u'many'),\n",
       " (0.0036855911929230796, u'children'),\n",
       " (0.0032876622171239384, u'life'),\n",
       " (0.0032477370738014108, u'school'),\n",
       " (0.0032081029071152154, u'get'),\n",
       " (0.0031421457694246961, u'way'),\n",
       " (0.0031242990275755183, u'us'),\n",
       " (0.0031083953772986484, u'world'),\n",
       " (0.0029162551334731982, u'know')]"
      ]
     },
     "execution_count": 29,
     "metadata": {},
     "output_type": "execute_result"
    }
   ],
   "source": [
    "lda.show_topic(9, topn=15)"
   ]
  },
  {
   "cell_type": "code",
   "execution_count": 65,
   "metadata": {
    "collapsed": false
   },
   "outputs": [],
   "source": [
    "lda = models.LdaModel.load('english_100')"
   ]
  },
  {
   "cell_type": "code",
   "execution_count": 55,
   "metadata": {
    "collapsed": false
   },
   "outputs": [
    {
     "data": {
      "text/plain": [
       "[u'twiga',\n",
       " u'stars',\n",
       " u'head',\n",
       " u'coach',\n",
       " u'rogasian',\n",
       " u'kaijage',\n",
       " u'daily',\n",
       " u'news',\n",
       " u'yesterday',\n",
       " u'squad',\n",
       " u'ready',\n",
       " u'clash',\n",
       " u'pointed',\n",
       " u'important',\n",
       " u'players',\n",
       " u'less',\n",
       " u'experience',\n",
       " u'international',\n",
       " u'games',\n",
       " u'game',\n",
       " u'important',\n",
       " u'team',\n",
       " u'especially',\n",
       " u'upcoming',\n",
       " u'players',\n",
       " u'called',\n",
       " u'team',\n",
       " u'give',\n",
       " u'opportunity',\n",
       " u'gain',\n",
       " u'experience',\n",
       " u'international',\n",
       " u'matches',\n",
       " u'kaijage',\n",
       " u'apart',\n",
       " u'kaijage',\n",
       " u'match',\n",
       " u'important',\n",
       " u'side',\n",
       " u'need',\n",
       " u'get',\n",
       " u'good',\n",
       " u'result',\n",
       " u'honor',\n",
       " u'old',\n",
       " u'guard',\n",
       " u'esther',\n",
       " u'chabruma',\n",
       " u'alias',\n",
       " u'lunyamila',\n",
       " u'announced',\n",
       " u'retirement',\n",
       " u'team',\n",
       " u'players',\n",
       " u'need',\n",
       " u'get',\n",
       " u'good',\n",
       " u'result',\n",
       " u'tomorrows',\n",
       " u'match',\n",
       " u'today',\n",
       " u'good',\n",
       " u'gift',\n",
       " u'teammate',\n",
       " u'esther',\n",
       " u'chabruma',\n",
       " u'hanging',\n",
       " u'boots',\n",
       " u'serving',\n",
       " u'team',\n",
       " u'long',\n",
       " u'since',\n",
       " u'first',\n",
       " u'squad',\n",
       " u'formed',\n",
       " u'kaijage',\n",
       " u'squad',\n",
       " u'currently',\n",
       " u'injury',\n",
       " u'free',\n",
       " u'players',\n",
       " u'good',\n",
       " u'shape',\n",
       " u'encounter',\n",
       " u'malawi',\n",
       " u'national',\n",
       " u'women',\n",
       " u'soccer',\n",
       " u'team',\n",
       " u'malawi',\n",
       " u'use',\n",
       " u'encounter',\n",
       " u'prepare',\n",
       " u'cosafa',\n",
       " u'womens',\n",
       " u'tournament',\n",
       " u'scheduled',\n",
       " u'seychelles',\n",
       " u'march',\n",
       " u'next',\n",
       " u'year',\n",
       " u'match',\n",
       " u'good',\n",
       " u'test',\n",
       " u'malawians',\n",
       " u'bounced',\n",
       " u'back',\n",
       " u'action',\n",
       " u'two',\n",
       " u'years',\n",
       " u'hibernation',\n",
       " u'caused',\n",
       " u'poor',\n",
       " u'performance',\n",
       " u'team',\n",
       " u'regional',\n",
       " u'competitions',\n",
       " u'todays',\n",
       " u'build',\n",
       " u'game',\n",
       " u'part',\n",
       " u'long',\n",
       " u'term',\n",
       " u'preparation',\n",
       " u'plans',\n",
       " u'twiga',\n",
       " u'stars',\n",
       " u'drawn',\n",
       " u'zimbabwe',\n",
       " u'africa',\n",
       " u'women',\n",
       " u'championship',\n",
       " u'awc',\n",
       " u'qualifiers',\n",
       " u'scheduled',\n",
       " u'march',\n",
       " u'next',\n",
       " u'year',\n",
       " u'twiga',\n",
       " u'stars',\n",
       " u'start',\n",
       " u'campaign',\n",
       " u'home',\n",
       " u'match',\n",
       " u'played',\n",
       " u'march',\n",
       " u'4',\n",
       " u'6',\n",
       " u'return',\n",
       " u'leg',\n",
       " u'staged',\n",
       " u'harare',\n",
       " u'fortnight',\n",
       " u'later',\n",
       " u'seven',\n",
       " u'teams',\n",
       " u'emerge',\n",
       " u'qualifiers',\n",
       " u'africa',\n",
       " u'women',\n",
       " u'cup',\n",
       " u'nations',\n",
       " u'join',\n",
       " u'hosts',\n",
       " u'cameroon',\n",
       " u'final',\n",
       " u'tournament',\n",
       " u'scheduled',\n",
       " u'november',\n",
       " u'19th',\n",
       " u'december',\n",
       " u'3rd',\n",
       " u'next',\n",
       " u'year',\n",
       " u'twiga',\n",
       " u'stars',\n",
       " u'qualified',\n",
       " u'african',\n",
       " u'women',\n",
       " u'championship',\n",
       " u'hosted',\n",
       " u'south',\n",
       " u'africa',\n",
       " u'2010',\n",
       " u'players',\n",
       " u'camp',\n",
       " u'include',\n",
       " u'asha',\n",
       " u'rashid',\n",
       " u'esther',\n",
       " u'chabruma',\n",
       " u'fatuma',\n",
       " u'bushiri',\n",
       " u'fatuma',\n",
       " u'omari',\n",
       " u'mwajuma',\n",
       " u'abdallah',\n",
       " u'mwanahamis',\n",
       " u'omar',\n",
       " u'fatuma',\n",
       " u'khatibu',\n",
       " u'amina',\n",
       " u'ally',\n",
       " u'fatuma',\n",
       " u'issa',\n",
       " u'belina',\n",
       " u'julius',\n",
       " u'happines',\n",
       " u'hezron',\n",
       " u'donizia',\n",
       " u'daniel',\n",
       " u'others',\n",
       " u'maimuma',\n",
       " u'hamisi',\n",
       " u'stumai',\n",
       " u'abdallah',\n",
       " u'anna',\n",
       " u'hebron',\n",
       " u'anastazia',\n",
       " u'anthony',\n",
       " u'shelder',\n",
       " u'boniface',\n",
       " u'wema',\n",
       " u'richard',\n",
       " u'tumaini',\n",
       " u'michael',\n",
       " u'jane',\n",
       " u'cloudy',\n",
       " u'saada',\n",
       " u'ramadhani',\n",
       " u'sofia',\n",
       " u'mwasikili']"
      ]
     },
     "execution_count": 55,
     "metadata": {},
     "output_type": "execute_result"
    }
   ],
   "source": [
    "articles[2345]"
   ]
  },
  {
   "cell_type": "code",
   "execution_count": 66,
   "metadata": {
    "collapsed": false
   },
   "outputs": [
    {
     "data": {
      "text/plain": [
       "[(27, 0.18604952744858816),\n",
       " (38, 0.011433295577944943),\n",
       " (53, 0.62442593698838134),\n",
       " (59, 0.021858374888887373),\n",
       " (66, 0.15046930864911939)]"
      ]
     },
     "execution_count": 66,
     "metadata": {},
     "output_type": "execute_result"
    }
   ],
   "source": [
    "lda.get_document_topics(dictionary.doc2bow(bigram[articles[3456]]))"
   ]
  },
  {
   "cell_type": "code",
   "execution_count": 67,
   "metadata": {
    "collapsed": false
   },
   "outputs": [
    {
     "data": {
      "text/plain": [
       "[(0.024661710414627416, u'ccm'),\n",
       " (0.01626484202834854, u'party'),\n",
       " (0.011232025497039728, u'chadema'),\n",
       " (0.0097323159955141694, u'mr'),\n",
       " (0.0092510446967781039, u'would'),\n",
       " (0.0083452258426385522, u'candidate'),\n",
       " (0.0079727585363354621, u'lowassa'),\n",
       " (0.0074406338490772385, u'mr_lowassa'),\n",
       " (0.0071322306792718808, u'ukawa'),\n",
       " (0.0070738256513148334, u'opposition'),\n",
       " (0.0062344216949279828, u'candidates'),\n",
       " (0.00560262828018121, u'election'),\n",
       " (0.0051403830592518926, u'people'),\n",
       " (0.0049169530001158101, u'ruling_party'),\n",
       " (0.0042083599530380973, u'change')]"
      ]
     },
     "execution_count": 67,
     "metadata": {},
     "output_type": "execute_result"
    }
   ],
   "source": [
    "lda.show_topic(53, topn=15)"
   ]
  },
  {
   "cell_type": "code",
   "execution_count": 68,
   "metadata": {
    "collapsed": false
   },
   "outputs": [
    {
     "data": {
      "text/plain": [
       "[(0.0049956147255979053, u'one'),\n",
       " (0.0045363620071283729, u'diabetes'),\n",
       " (0.004258128479487179, u'meru'),\n",
       " (0.0037744520275581326, u'ngonyani'),\n",
       " (0.0037713203723547606, u'house'),\n",
       " (0.0036746500591089679, u'poisoned'),\n",
       " (0.0035537474644162692, u'baby'),\n",
       " (0.0034632617721595811, u'family'),\n",
       " (0.0033785358778191518, u'year'),\n",
       " (0.0031963849263178397, u'student'),\n",
       " (0.0030083986708795418, u'late'),\n",
       " (0.002916798645010502, u'wife'),\n",
       " (0.0025895513981064023, u'time'),\n",
       " (0.0024850389130018657, u'obiero'),\n",
       " (0.002480867704530181, u'cte_divoire')]"
      ]
     },
     "execution_count": 68,
     "metadata": {},
     "output_type": "execute_result"
    }
   ],
   "source": [
    "lda.show_topic(27, topn=15)"
   ]
  },
  {
   "cell_type": "code",
   "execution_count": 61,
   "metadata": {
    "collapsed": false
   },
   "outputs": [
    {
     "data": {
      "text/plain": [
       "{u'byline': [],\n",
       " u'publication': u'citizen',\n",
       " u'scraped_at': u'2015-09-23T00:00:06.170643',\n",
       " u'title': [u'Poll puts Magufuli of CCM in lead over opposition\\u2019s Lowassa'],\n",
       " u'url': u'http://www.thecitizen.co.tz/News/-/1840340/2880816/-/7qrir5/-/index.html'}"
      ]
     },
     "execution_count": 61,
     "metadata": {},
     "output_type": "execute_result"
    }
   ],
   "source": [
    "article_data[3456]"
   ]
  },
  {
   "cell_type": "code",
   "execution_count": 34,
   "metadata": {
    "collapsed": true
   },
   "outputs": [],
   "source": [
    "article_data = []\n",
    "for pub in english_publications:\n",
    "    with open(\"all_articles/%s.json\" % pub, \"rb\") as infile:\n",
    "        article_data.extend(json.load(infile))"
   ]
  },
  {
   "cell_type": "code",
   "execution_count": 41,
   "metadata": {
    "collapsed": false
   },
   "outputs": [
    {
     "data": {
      "text/plain": [
       "{u'byline': [u'JAFFAR MJASIRI'],\n",
       " u'description': [u'Another week of temperature raising in politics. Political parties continue to roar around the country.'],\n",
       " u'publication': u'daily_news',\n",
       " u'scraped_at': u'2015-09-15T12:00:27.442754',\n",
       " u'title': [u'Annals of History: The paranoia that engulfs shrewd politicians (IV)'],\n",
       " u'url': u'http://dailynews.co.tz/index.php/analysis/42157-annals-of-history-the-paranoia-that-engulf-shrewd-politicians-iv'}"
      ]
     },
     "execution_count": 41,
     "metadata": {},
     "output_type": "execute_result"
    }
   ],
   "source": [
    "article_data[999]"
   ]
  },
  {
   "cell_type": "code",
   "execution_count": 42,
   "metadata": {
    "collapsed": false
   },
   "outputs": [
    {
     "data": {
      "text/plain": [
       "[(2, 0.13769052286929559),\n",
       " (15, 0.04124457575410187),\n",
       " (32, 0.2826300241552126),\n",
       " (38, 0.49839741084139055),\n",
       " (45, 0.038424527091296339)]"
      ]
     },
     "execution_count": 42,
     "metadata": {},
     "output_type": "execute_result"
    }
   ],
   "source": [
    "lda.get_document_topics(dictionary.doc2bow(bigram[articles[999]]))"
   ]
  },
  {
   "cell_type": "code",
   "execution_count": 87,
   "metadata": {
    "collapsed": false
   },
   "outputs": [
    {
     "data": {
      "text/plain": [
       "[(0.03441346632008712, u'mr'),\n",
       " (0.029324649891120953, u'votes'),\n",
       " (0.011508606871385343, u'media'),\n",
       " (0.0097467639798472748, u'constituency'),\n",
       " (0.0078378455390823321, u'tmf'),\n",
       " (0.0070807171041092796, u'seat'),\n",
       " (0.0070587110571618313, u'got'),\n",
       " (0.0069788402025023474, u'ms'),\n",
       " (0.0068045140284833583, u'ccm'),\n",
       " (0.0066822637874007617, u'won')]"
      ]
     },
     "execution_count": 87,
     "metadata": {},
     "output_type": "execute_result"
    }
   ],
   "source": [
    "lda.show_topic(39)"
   ]
  },
  {
   "cell_type": "code",
   "execution_count": 91,
   "metadata": {
    "collapsed": false
   },
   "outputs": [
    {
     "name": "stdout",
     "output_type": "stream",
     "text": [
      "[(0.0113, u'pilgrims'), (0.0097, u'saudi_arabia'), (0.0078, u'mecca'), (0.0075, u'hajj'), (0.0073, u'tanzanians'), (0.0071, u'died'), (0.007, u'stampede'), (0.0064, u'yesterday'), (0.0064, u'people'), (0.0063, u'injured')]\n",
      "[(0.0556, u'eac'), (0.0363, u'east_african'), (0.0142, u'community_eac'), (0.0139, u'burundi'), (0.0133, u'community'), (0.0106, u'tanzania'), (0.0101, u'partner_states'), (0.01, u'region'), (0.0097, u'country'), (0.0091, u'mission')]\n",
      "[(0.0104, u'tanzania'), (0.006, u'products'), (0.0057, u'tbs'), (0.0049, u'dar_es'), (0.0047, u'salaam'), (0.0047, u'country'), (0.0047, u'year'), (0.0039, u'bonus'), (0.0037, u'mark'), (0.0036, u'would')]\n",
      "[(0.0084, u'dar_es'), (0.0078, u'salaam'), (0.0073, u'000'), (0.007, u'two'), (0.0055, u'ivory'), (0.0049, u'suspects'), (0.0047, u'jnia'), (0.0043, u'mohamed'), (0.0036, u'tanzania'), (0.0035, u'three')]\n",
      "[(0.0144, u'chelsea'), (0.0111, u'mourinho'), (0.0078, u'arsenal'), (0.0062, u'wenger'), (0.0056, u'manager'), (0.0051, u'1'), (0.0046, u'september'), (0.0046, u'mr_arfi'), (0.0041, u'newcastle'), (0.0039, u'champions_league')]\n",
      "[(0.0242, u'china'), (0.0167, u'chinese'), (0.0069, u'chinas'), (0.0061, u'tanzania'), (0.0059, u'years_ago'), (0.0053, u'us'), (0.005, u'million'), (0.0048, u'new'), (0.0048, u'country'), (0.0046, u'project')]\n",
      "[(0.0216, u'zanzibar'), (0.0214, u'dr_shein'), (0.0153, u'government'), (0.0067, u'people'), (0.0061, u'president'), (0.0045, u'isles'), (0.004, u'union'), (0.0032, u'pemba'), (0.003, u'would'), (0.0029, u'including')]\n",
      "[(0.0054, u'tanzania'), (0.0035, u'water'), (0.0033, u'cent'), (0.0033, u'country'), (0.0032, u'government'), (0.0031, u'nyoso'), (0.0031, u'people'), (0.0031, u'year'), (0.0031, u'would'), (0.0029, u'one')]\n",
      "[(0.0504, u'zanzibar'), (0.0156, u'cuf'), (0.0108, u'isles'), (0.0097, u'zec'), (0.0086, u'results'), (0.0085, u'mr_hamad'), (0.0084, u'elections'), (0.0072, u'election'), (0.0069, u'zanzibar_electoral'), (0.0066, u'president')]\n",
      "[(0.0238, u'wildlife'), (0.0162, u'tanzania'), (0.0155, u'elephants'), (0.0149, u'poaching'), (0.0109, u'ivory'), (0.0078, u'elephant'), (0.0069, u'conservation'), (0.0066, u'poachers'), (0.0058, u'dar_es'), (0.0057, u'national_parks')]\n",
      "[(0.0179, u'music'), (0.0116, u'festival'), (0.0102, u'artistes'), (0.006, u'people'), (0.0053, u'musicians'), (0.0049, u'art'), (0.0049, u'band'), (0.0041, u'iaaf'), (0.004, u'culture'), (0.0036, u'beijing')]\n",
      "[(0.0089, u'mwanza'), (0.0081, u'temeke'), (0.0063, u'kinondoni'), (0.0051, u'ilala'), (0.005, u'girls'), (0.0049, u'morogoro'), (0.0044, u'road'), (0.0038, u'region'), (0.0036, u'debt'), (0.0035, u'management')]\n",
      "[(0.0085, u'airport'), (0.0059, u'factory'), (0.0056, u'people'), (0.0049, u'mr'), (0.0048, u'boko_haram'), (0.0047, u'one'), (0.0043, u'would'), (0.0035, u'registration'), (0.0034, u'safety'), (0.0033, u'army')]\n",
      "[(0.0078, u'religion'), (0.0074, u'products'), (0.0066, u'nigeria'), (0.0062, u'prices'), (0.0052, u'attacks'), (0.005, u'boko_haram'), (0.0048, u'one'), (0.0047, u'market'), (0.0046, u'kerosene'), (0.0039, u'petrol')]\n",
      "[(0.0109, u'project'), (0.0076, u'nhc'), (0.0073, u'city'), (0.0065, u'building'), (0.0061, u'dar_es'), (0.0054, u'salaam'), (0.0052, u'mr'), (0.0048, u'houses'), (0.0045, u'construction'), (0.0041, u'people')]\n",
      "[(0.0298, u'court'), (0.0145, u'case'), (0.0129, u'accused'), (0.0108, u'law'), (0.0096, u'act'), (0.0077, u'alleged'), (0.0071, u'matter'), (0.0062, u'charged'), (0.0061, u'high_court'), (0.0053, u'dar_es')]\n",
      "[(0.0177, u'players'), (0.0159, u'stars'), (0.0152, u'team'), (0.0127, u'taifa_stars'), (0.0101, u'tournament'), (0.0086, u'mkwasa'), (0.0084, u'tanzania'), (0.0079, u'dar_es'), (0.0073, u'teams'), (0.0071, u'match')]\n",
      "[(0.0222, u'students'), (0.0209, u'education'), (0.0203, u'school'), (0.0151, u'teachers'), (0.012, u'schools'), (0.0098, u'youth'), (0.0055, u'training'), (0.0053, u'children'), (0.0052, u'young_people'), (0.0043, u'secondary_school')]\n",
      "[(0.0032, u'one'), (0.0029, u'people'), (0.0028, u'salaam'), (0.0027, u'dar_es'), (0.0025, u'manifesto'), (0.0025, u'person'), (0.0025, u'others'), (0.0024, u'saying'), (0.0024, u'content'), (0.0024, u'youths')]\n",
      "[(0.0105, u'buses'), (0.0066, u'mr'), (0.006, u'film'), (0.006, u'people'), (0.0058, u'passengers'), (0.0056, u'dar_es'), (0.0038, u'uda_rt'), (0.0037, u'salaam'), (0.0037, u'transport'), (0.0036, u'rc')]\n",
      "[(0.0135, u'ya'), (0.0119, u'wa'), (0.0106, u'na'), (0.0058, u'kwa'), (0.0051, u'kuwa'), (0.0049, u'katika'), (0.0045, u'ni'), (0.0044, u'ahadi'), (0.0043, u'za'), (0.0036, u'ounce')]\n",
      "[(0.0079, u'land'), (0.0064, u'competition'), (0.006, u'exhibition'), (0.0039, u'tea'), (0.0039, u'china'), (0.0036, u'would'), (0.0036, u'prize'), (0.0036, u'tanzania'), (0.0035, u'artists'), (0.0035, u'chinese')]\n",
      "[(0.0066, u'people'), (0.0063, u'country'), (0.0054, u'one'), (0.0039, u'political'), (0.0035, u'time'), (0.0029, u'use'), (0.0028, u'even'), (0.0027, u'nation'), (0.0025, u'parties'), (0.0024, u'political_parties')]\n",
      "[(0.0166, u'tanzania'), (0.0069, u'people'), (0.0066, u'country'), (0.0051, u'government'), (0.0037, u'one'), (0.0035, u'skills'), (0.0033, u'new'), (0.0029, u'national'), (0.0028, u'need'), (0.0027, u'development')]\n",
      "[(0.0084, u'would'), (0.0076, u'dar_es'), (0.0067, u'salaam'), (0.006, u'body'), (0.0042, u'according'), (0.0041, u'ppra'), (0.004, u'mourners'), (0.0037, u'tender'), (0.0036, u'kombani'), (0.0035, u'morogoro')]\n",
      "[(0.0113, u'government'), (0.0094, u'president'), (0.0073, u'mnh'), (0.0061, u'ct_scan'), (0.0054, u'dar_es'), (0.0052, u'tanzania'), (0.0049, u'mri'), (0.0044, u'salaam'), (0.0043, u'gender_equality'), (0.0043, u'equipment')]\n",
      "[(0.017, u'fifa'), (0.0099, u'blatter'), (0.0059, u'fifas'), (0.0053, u'football'), (0.0045, u'pistorius'), (0.004, u'people'), (0.0037, u'swiss'), (0.0031, u'platini'), (0.0031, u'blatters'), (0.003, u'year_old')]\n",
      "[(0.005, u'one'), (0.0045, u'diabetes'), (0.0043, u'meru'), (0.0038, u'ngonyani'), (0.0038, u'house'), (0.0037, u'poisoned'), (0.0036, u'baby'), (0.0035, u'family'), (0.0034, u'year'), (0.0032, u'student')]\n",
      "[(0.0072, u'country'), (0.0063, u'award'), (0.0055, u'africa'), (0.0052, u'awards'), (0.0051, u'tanzania'), (0.0048, u'human_rights'), (0.0038, u'african'), (0.0033, u'year'), (0.0032, u'international'), (0.003, u'investment')]\n",
      "[(0.0112, u'constitution'), (0.0059, u'strokes'), (0.0056, u'fatuma'), (0.0038, u'proposed_new'), (0.0037, u'three'), (0.0036, u'net'), (0.0036, u'referendum'), (0.0034, u'misenyi'), (0.0031, u'tanzania'), (0.0031, u'country')]\n",
      "[(0.0286, u'government'), (0.0135, u'would'), (0.0108, u'people'), (0.009, u'dr_magufuli'), (0.0085, u'ensure'), (0.0076, u'country'), (0.0076, u'residents'), (0.0065, u'water'), (0.006, u'promised'), (0.0054, u'area')]\n",
      "[(0.0078, u'mr'), (0.0032, u'dr_kigoda'), (0.0031, u'country'), (0.0028, u'india'), (0.0027, u'ms'), (0.0026, u'campaign'), (0.0026, u'reported'), (0.0025, u'could'), (0.0025, u'vehicle'), (0.0025, u'asm')]\n",
      "[(0.0053, u'one'), (0.0049, u'government'), (0.0045, u'people'), (0.0042, u'village'), (0.004, u'country'), (0.0038, u'would'), (0.0033, u'us'), (0.0032, u'border'), (0.0031, u'two'), (0.003, u'boat')]\n",
      "[(0.0074, u'change'), (0.0067, u'party'), (0.0062, u'girls'), (0.0058, u'ccm'), (0.0048, u'one'), (0.0042, u'candidate'), (0.0042, u'people'), (0.004, u'two'), (0.0038, u'tanzania'), (0.0037, u'prostitution')]\n",
      "[(0.0213, u'shilling'), (0.0186, u'year'), (0.0175, u'dollar'), (0.0159, u'cent'), (0.0136, u'bank'), (0.0088, u'profit'), (0.0083, u'costs'), (0.0078, u'us_dollar'), (0.0074, u'us_dollars'), (0.0072, u'tax')]\n",
      "[(0.0151, u'media'), (0.0103, u'journalists'), (0.0055, u'mr'), (0.0047, u'news'), (0.0036, u'reporting'), (0.0032, u'refugees'), (0.0031, u'country'), (0.0031, u'situation'), (0.003, u'part'), (0.0028, u'society')]\n",
      "[(0.0087, u'government'), (0.0076, u'south_sudan'), (0.0061, u'water'), (0.0059, u'kiir'), (0.0058, u'tanzania'), (0.0038, u'peace_deal'), (0.0038, u'country'), (0.0035, u'new'), (0.0033, u'youth'), (0.0032, u'would')]\n",
      "[(0.0098, u'military'), (0.0072, u'uganda'), (0.0062, u'park'), (0.0058, u'africa'), (0.0056, u'tanzania'), (0.0049, u'south_africa'), (0.0048, u'icc'), (0.0038, u'kenya'), (0.0038, u'afp'), (0.0034, u'united_nations')]\n",
      "[(0.0276, u'ccm'), (0.0239, u'chadema'), (0.0146, u'1'), (0.0121, u'2'), (0.0106, u'0'), (0.0094, u'4'), (0.0093, u'21'), (0.0088, u'12'), (0.0086, u'6'), (0.0084, u'18')]\n",
      "[(0.0344, u'mr'), (0.0293, u'votes'), (0.0115, u'media'), (0.0097, u'constituency'), (0.0078, u'tmf'), (0.0071, u'seat'), (0.0071, u'got'), (0.007, u'ms'), (0.0068, u'ccm'), (0.0067, u'won')]\n",
      "[(0.0119, u'people'), (0.0069, u'sugar'), (0.006, u'drugs'), (0.005, u'hospital'), (0.0048, u'medicines'), (0.0045, u'doctors'), (0.0042, u'online'), (0.0042, u'medical'), (0.0042, u'people_disabilities'), (0.0041, u'medicine')]\n",
      "[(0.0115, u'uchumi'), (0.0106, u'tanzania'), (0.006, u'uganda'), (0.0055, u'would'), (0.0053, u'shares'), (0.0052, u'operations'), (0.0044, u'tbl'), (0.004, u'two'), (0.0037, u'outlets'), (0.0031, u'dar_es')]\n",
      "[(0.0091, u'development'), (0.0087, u'africa'), (0.0064, u'tanzania'), (0.0056, u'national'), (0.0055, u'global'), (0.0051, u'countries'), (0.0049, u'country'), (0.0047, u'need'), (0.0042, u'one'), (0.0041, u'well')]\n",
      "[(0.0074, u'power'), (0.0054, u'dar_es'), (0.0048, u'salaam'), (0.0044, u'city'), (0.0035, u'tanesco'), (0.0034, u'ubungo'), (0.0031, u'well'), (0.0029, u'years'), (0.0026, u'soldiers'), (0.0025, u'camp')]\n",
      "[(0.0198, u'tanzania'), (0.0087, u'research'), (0.0063, u'government'), (0.0063, u'country'), (0.0052, u'africa'), (0.0047, u'project'), (0.0047, u'new'), (0.0038, u'development'), (0.0037, u'kenya'), (0.0036, u'college')]\n",
      "[(0.0056, u'project'), (0.0037, u'president'), (0.0037, u'people'), (0.0031, u'support'), (0.0031, u'one'), (0.0031, u'colleague'), (0.003, u'dar_es'), (0.003, u'scribbler'), (0.003, u'rev_mtikila'), (0.0029, u'us')]\n",
      "[(0.0048, u'government'), (0.0045, u'nigerian'), (0.0043, u'nollywood'), (0.004, u'films'), (0.0039, u'means'), (0.0037, u'mr'), (0.003, u'summit'), (0.0029, u'writers'), (0.0028, u'tmea'), (0.0026, u'nnpc')]\n",
      "[(0.0213, u'tanzania'), (0.0093, u'observers'), (0.0058, u'dar_es'), (0.0056, u'elections'), (0.0054, u'mission'), (0.0053, u'sadc'), (0.0052, u'election'), (0.0051, u'salaam'), (0.0051, u'process'), (0.005, u'sdgs')]\n",
      "[(0.0069, u'dar_es'), (0.0068, u'salaam'), (0.0055, u'tanzania'), (0.0033, u'statement'), (0.0032, u'film'), (0.0029, u'academic_staff'), (0.0029, u'would'), (0.0027, u'per'), (0.0027, u'contributions'), (0.0026, u'new')]\n",
      "[(0.016, u'tanzania'), (0.0115, u'business'), (0.0076, u'country'), (0.0075, u'dar_es'), (0.0073, u'mr'), (0.0073, u'services'), (0.0065, u'economy'), (0.0063, u'growth'), (0.0061, u'market'), (0.0061, u'bank')]\n",
      "[(0.0073, u'cotton'), (0.0049, u'turtles'), (0.0047, u'benjamin'), (0.0042, u'group'), (0.0039, u'maize'), (0.0038, u'one'), (0.0037, u'turtle'), (0.0036, u'africa'), (0.0034, u'dar_es'), (0.0033, u'landlord')]\n",
      "[(0.0111, u'na'), (0.0077, u'ya'), (0.0059, u'wa'), (0.0047, u'port'), (0.0044, u'spotted_hyenas'), (0.0041, u'alisema'), (0.0039, u'group'), (0.0037, u'animals'), (0.0036, u'kwa'), (0.003, u'authority')]\n",
      "[(0.0046, u'tigo'), (0.0042, u'4g'), (0.0041, u'new'), (0.0032, u'bridge'), (0.0032, u'ds'), (0.0031, u'people'), (0.003, u'patient'), (0.0029, u'around'), (0.0027, u'changes'), (0.0027, u'power')]\n",
      "[(0.0247, u'ccm'), (0.0163, u'party'), (0.0112, u'chadema'), (0.0097, u'mr'), (0.0093, u'would'), (0.0083, u'candidate'), (0.008, u'lowassa'), (0.0074, u'mr_lowassa'), (0.0071, u'ukawa'), (0.0071, u'opposition')]\n",
      "[(0.0599, u'women'), (0.0086, u'government'), (0.006, u'female'), (0.005, u'womens'), (0.0049, u'tanzania'), (0.0048, u'men'), (0.0045, u'system'), (0.0043, u'president'), (0.0041, u'cent'), (0.004, u'laws')]\n",
      "[(0.0268, u'kenya'), (0.0094, u'two_countries'), (0.009, u'tanzania'), (0.0074, u'kenyan'), (0.0073, u'mr'), (0.0057, u'kenyatta'), (0.0046, u'president_kenyatta'), (0.0046, u'two'), (0.0045, u'kenyans'), (0.0044, u'kenyas')]\n",
      "[(0.0135, u'one'), (0.0099, u'would'), (0.0086, u'people'), (0.0084, u'time'), (0.0082, u'like'), (0.0074, u'even'), (0.0057, u'many'), (0.0053, u'know'), (0.005, u'way'), (0.0049, u'us')]\n",
      "[(0.0191, u'water'), (0.0063, u'treatment'), (0.0045, u'wastewater'), (0.0041, u'people'), (0.0036, u'tanzania'), (0.0033, u'would'), (0.0032, u'smoking'), (0.0031, u'environment'), (0.003, u'many'), (0.003, u'including')]\n",
      "[(0.0044, u'one'), (0.0037, u'tanzania'), (0.0028, u'project'), (0.0028, u'farmers'), (0.0027, u'two'), (0.0027, u'taha'), (0.0025, u'among'), (0.0025, u'still'), (0.0023, u'local'), (0.0023, u'us')]\n",
      "[(0.0228, u'election'), (0.018, u'nec'), (0.0163, u'elections'), (0.0157, u'voters'), (0.0139, u'people'), (0.013, u'political_parties'), (0.0085, u'would'), (0.0084, u'general_election'), (0.0078, u'voting'), (0.0075, u'national_electoral')]\n",
      "[(0.0046, u'time'), (0.0039, u'keeper'), (0.0032, u'team'), (0.003, u'facebook'), (0.0029, u'tambwe'), (0.0025, u'two'), (0.0024, u'kigali'), (0.0022, u'year_old'), (0.0022, u'would'), (0.0022, u'see')]\n",
      "[(0.0049, u'african'), (0.0041, u'emissions'), (0.004, u'africa'), (0.004, u'world'), (0.0034, u'could'), (0.0034, u'people'), (0.0034, u'appellant'), (0.0031, u'footprints'), (0.003, u'one'), (0.0027, u'would')]\n",
      "[(0.0087, u'samatta'), (0.0071, u'mazembe'), (0.0055, u'second_quarter'), (0.0054, u'year'), (0.0053, u'world'), (0.005, u'tanzania'), (0.0047, u'tp_mazembe'), (0.0045, u'first'), (0.0043, u'2015'), (0.0039, u'one')]\n",
      "[(0.011, u'cent'), (0.0066, u'land'), (0.0066, u'tanzania'), (0.0066, u'farmers'), (0.0034, u'government'), (0.0033, u'country'), (0.0032, u'votes'), (0.0031, u'development'), (0.0031, u'farming'), (0.0028, u'unit')]\n",
      "[(0.0376, u'sports'), (0.0169, u'athletes'), (0.0132, u'games'), (0.0106, u'sport'), (0.0084, u'national'), (0.0083, u'country'), (0.008, u'tanzania'), (0.0078, u'event'), (0.0069, u'international'), (0.0056, u'football')]\n",
      "[(0.0129, u'match'), (0.0122, u'win'), (0.0119, u'yanga'), (0.0118, u'league'), (0.0103, u'team'), (0.0102, u'game'), (0.0098, u'simba'), (0.0078, u'players'), (0.0071, u'teams'), (0.0069, u'minute')]\n",
      "[(0.0187, u'cent'), (0.0107, u'per_cent'), (0.0107, u'tanzania'), (0.0074, u'increase'), (0.007, u'production'), (0.0069, u'market'), (0.0069, u'farmers'), (0.0064, u'increased'), (0.0064, u'year'), (0.0062, u'1')]\n",
      "[(0.0047, u'ward'), (0.0044, u'government'), (0.0042, u'mr'), (0.0038, u'education'), (0.0033, u'one'), (0.0028, u'however'), (0.0027, u'act_wazalendo'), (0.0027, u'reports'), (0.0027, u'constituency'), (0.0026, u'university_dar')]\n",
      "[(0.0084, u'mountain'), (0.0053, u'national_park'), (0.0048, u'islamic'), (0.0046, u'teeth'), (0.0045, u'kilimanjaro'), (0.0045, u'country'), (0.0044, u'government'), (0.0043, u'people'), (0.004, u'kibo'), (0.0038, u'metres')]\n",
      "[(0.0122, u'president'), (0.009, u'country'), (0.007, u'tanzania'), (0.0065, u'political'), (0.006, u'government'), (0.0056, u'people'), (0.0044, u'state'), (0.0043, u'would'), (0.0043, u'leaders'), (0.0042, u'elections')]\n",
      "[(0.0133, u'debate'), (0.006, u'parties'), (0.0059, u'one'), (0.0043, u'houses'), (0.0041, u'tanzania'), (0.0038, u'would'), (0.0035, u'candidates'), (0.0035, u'political_parties'), (0.0034, u'campaign'), (0.0033, u'public')]\n",
      "[(0.019, u'health'), (0.0158, u'disease'), (0.0146, u'dar_es'), (0.0142, u'salaam'), (0.0125, u'hospital'), (0.0118, u'patients'), (0.0107, u'dr'), (0.0104, u'people'), (0.0101, u'cholera'), (0.0073, u'treatment')]\n",
      "[(0.0139, u'students'), (0.0117, u'loans'), (0.0073, u'government'), (0.0056, u'board'), (0.0056, u'borders'), (0.0053, u'academic_year'), (0.005, u'higher_learning'), (0.0048, u'prisoners'), (0.0044, u'applicants'), (0.0041, u'katavi')]\n",
      "[(0.0071, u'gas'), (0.0071, u'cent'), (0.0062, u'megawatts'), (0.0057, u'power'), (0.0053, u'fgm'), (0.0051, u'close'), (0.0051, u'per_share'), (0.005, u'points'), (0.0046, u'week'), (0.0043, u'according')]\n",
      "[(0.0325, u'children'), (0.018, u'girls'), (0.0152, u'child'), (0.0097, u'women'), (0.0087, u'parents'), (0.0071, u'tanzania'), (0.0053, u'may'), (0.0051, u'cent'), (0.0051, u'marriage'), (0.005, u'family')]\n",
      "[(0.0117, u'dr_magufuli'), (0.0094, u'dar_es'), (0.0092, u'election'), (0.0086, u'results'), (0.0083, u'salaam'), (0.0083, u'candidates'), (0.0077, u'yesterday'), (0.0076, u'ccm'), (0.0074, u'constituencies'), (0.0072, u'nec')]\n",
      "[(0.0055, u'tanzania'), (0.0053, u'water'), (0.005, u'one'), (0.0045, u'blast_fishing'), (0.0043, u'system'), (0.0036, u'mr'), (0.0033, u'time'), (0.003, u'dynamite_fishing'), (0.0029, u'fisheries'), (0.0026, u'region')]\n",
      "[(0.0275, u'police'), (0.0068, u'dar_es'), (0.0061, u'salaam'), (0.006, u'police_officers'), (0.0059, u'mr'), (0.0056, u'arrested'), (0.0053, u'people'), (0.0047, u'suspects'), (0.0038, u'yesterday'), (0.0037, u'according')]\n",
      "[(0.0181, u'tanzania'), (0.0112, u'country'), (0.0098, u'government'), (0.0057, u'project'), (0.0051, u'development'), (0.0046, u'one'), (0.0042, u'tourism'), (0.0039, u'business'), (0.0039, u'sector'), (0.0039, u'projects')]\n",
      "[(0.0117, u'climate_change'), (0.0106, u'rains'), (0.01, u'people'), (0.0099, u'floods'), (0.0079, u'el_nino'), (0.0058, u'disasters'), (0.0049, u'areas'), (0.0049, u'climate'), (0.0047, u'tanzania'), (0.0046, u'arusha')]\n",
      "[(0.0092, u'park'), (0.0073, u'hockey'), (0.0059, u'two'), (0.0048, u'league'), (0.0043, u'facility'), (0.0042, u'sports'), (0.004, u'sunderland_afc'), (0.0038, u'one'), (0.0038, u'women'), (0.0036, u'symbion_power')]\n",
      "[(0.0082, u'tanzania'), (0.0063, u'deaths'), (0.0054, u'lead'), (0.0053, u'country'), (0.0047, u'new'), (0.0043, u'health'), (0.0041, u'high'), (0.004, u'according'), (0.0039, u'per'), (0.0037, u'us')]\n",
      "[(0.0081, u'petition'), (0.0063, u'government'), (0.0055, u'elections_act'), (0.0054, u'section_104'), (0.0047, u'1'), (0.0047, u'200_metres'), (0.0046, u'petitioner'), (0.0045, u'national'), (0.003, u'group'), (0.0029, u'office')]\n",
      "[(0.0087, u'dr_makaidi'), (0.0078, u'super_eagles'), (0.0055, u'death'), (0.005, u'died'), (0.0045, u'late'), (0.0043, u'makaidi'), (0.0041, u'pressure'), (0.0041, u'turkey'), (0.0036, u'cup_nations'), (0.0036, u'oliseh')]\n",
      "[(0.0082, u'malaria'), (0.0073, u'tanzania'), (0.007, u'new'), (0.0047, u'government'), (0.0042, u'countries'), (0.0037, u'development'), (0.0032, u'dar_es'), (0.0031, u'country'), (0.0031, u'cent'), (0.0029, u'africa')]\n",
      "[(0.0047, u'faidika'), (0.0047, u'death_penalty'), (0.0044, u'tanzania'), (0.0042, u'people'), (0.0038, u'take'), (0.0034, u'pakistan'), (0.0029, u'saying'), (0.0028, u'well'), (0.0027, u'accident'), (0.0027, u'sost')]\n",
      "[(0.0098, u'police'), (0.0071, u'violence'), (0.0065, u'bangui'), (0.006, u'central_african'), (0.0055, u'mawazo'), (0.0053, u'republic'), (0.0042, u'mr'), (0.004, u'saturday'), (0.0038, u'killed'), (0.0032, u'capital')]\n",
      "[(0.0063, u'human_rights'), (0.0062, u'african_court'), (0.0061, u'country'), (0.0053, u'human_peoples'), (0.005, u'coffee'), (0.0049, u'one'), (0.0046, u'tanzania'), (0.004, u'leprosy'), (0.0038, u'dialogue'), (0.0038, u'judicial')]\n",
      "[(0.0102, u'tfda'), (0.0101, u'measles'), (0.0096, u'cosmetics'), (0.0078, u'products'), (0.0053, u'food_drugs'), (0.0052, u'medicines'), (0.0042, u'drugs'), (0.0037, u'2013'), (0.0034, u'tb_joshua'), (0.0034, u'chemicals')]\n",
      "[(0.0045, u'tanzania'), (0.0042, u'country'), (0.0041, u'government'), (0.0038, u'milk'), (0.003, u'salaam'), (0.0029, u'dar_es'), (0.0028, u'one'), (0.0027, u'regions'), (0.0025, u'people'), (0.0024, u'according')]\n",
      "[(0.0088, u'area'), (0.0085, u'miners'), (0.0079, u'tea'), (0.0054, u'mining'), (0.0038, u'water'), (0.0036, u'small_scale'), (0.0036, u'village'), (0.0034, u'pit'), (0.0033, u'mr'), (0.0031, u'called')]\n",
      "[(0.0084, u'financial'), (0.0077, u'investment'), (0.0072, u'loans'), (0.0055, u'bank'), (0.0055, u'real_estate'), (0.0055, u'government'), (0.0052, u'banks'), (0.005, u'mortgage'), (0.0048, u'scheme'), (0.0046, u'savings')]\n",
      "[(0.0061, u'tanzania'), (0.0058, u'park'), (0.0054, u'mr'), (0.0043, u'one'), (0.004, u'yesterday'), (0.0038, u'serengeti_national'), (0.0037, u'expatriate_employees'), (0.0035, u'hotel'), (0.0033, u'migration'), (0.0033, u'director')]\n",
      "[(0.0056, u'sid'), (0.0053, u'international'), (0.0038, u'environment_climate'), (0.0027, u'one'), (0.0027, u'two'), (0.0026, u'fund'), (0.0025, u'oil'), (0.0025, u'ms'), (0.0025, u'chapters'), (0.0024, u'could')]\n",
      "[(0.0051, u'one'), (0.0044, u'would'), (0.0042, u'deaf'), (0.0038, u'people'), (0.0035, u'tazara'), (0.0029, u'icc'), (0.0029, u'tanzania'), (0.0027, u'chris'), (0.0026, u'polio'), (0.0026, u'children')]\n",
      "[(0.0144, u'parliament'), (0.0099, u'speaker'), (0.0085, u'mps'), (0.0075, u'government'), (0.0063, u'national_assembly'), (0.0062, u'members'), (0.0058, u'one'), (0.0055, u'house'), (0.005, u'assembly'), (0.0049, u'president')]\n",
      "[(0.0081, u'dar_es'), (0.0077, u'fight'), (0.0069, u'salaam'), (0.0067, u'title'), (0.006, u'rally'), (0.005, u'won'), (0.0048, u'arusha'), (0.0046, u'national'), (0.0044, u'years'), (0.0043, u'drivers')]\n",
      "[(0.0079, u'judiciary'), (0.0047, u'election_petitions'), (0.0047, u'cent'), (0.0046, u'country'), (0.0041, u'investment'), (0.004, u'mw'), (0.004, u'one'), (0.004, u'year'), (0.004, u'noted'), (0.0038, u'per_cent')]\n",
      "[(0.0095, u'dr_magufuli'), (0.0087, u'government'), (0.0077, u'residents'), (0.0072, u'people'), (0.0066, u'land'), (0.0064, u'would'), (0.0063, u'going'), (0.0059, u'country'), (0.0055, u'sudan'), (0.0049, u'noted')]\n",
      "[(0.0066, u'broadcasting'), (0.0058, u'dr'), (0.0053, u'tanzania'), (0.0051, u'content'), (0.0042, u'media'), (0.0041, u'country'), (0.004, u'good'), (0.0038, u'us'), (0.0037, u'added'), (0.0035, u'guidelines')]\n"
     ]
    }
   ],
   "source": [
    "for i in range(0,100):\n",
    "    topic = lda.show_topic(i)\n",
    "    topic = map(lambda x: (round(x[0], 4), x[1]), topic)\n",
    "    print topic"
   ]
  },
  {
   "cell_type": "code",
   "execution_count": 92,
   "metadata": {
    "collapsed": false
   },
   "outputs": [
    {
     "data": {
      "text/plain": [
       "[(0.0065941505768162831, u'broadcasting'),\n",
       " (0.0057831852080443358, u'dr'),\n",
       " (0.0053208897596508297, u'tanzania'),\n",
       " (0.0051245262745076136, u'content'),\n",
       " (0.0041668014121087754, u'media'),\n",
       " (0.0040727158325663728, u'country'),\n",
       " (0.0040141117149059997, u'good'),\n",
       " (0.0037684977539496197, u'us'),\n",
       " (0.0037235757779144935, u'added'),\n",
       " (0.0035484781217390324, u'guidelines')]"
      ]
     },
     "execution_count": 92,
     "metadata": {},
     "output_type": "execute_result"
    }
   ],
   "source": [
    "lda.show_topic(99)"
   ]
  },
  {
   "cell_type": "code",
   "execution_count": 352,
   "metadata": {
    "collapsed": false
   },
   "outputs": [],
   "source": [
    "with open(\"topic_labels_en.json\", \"rb\") as infile:\n",
    "        topic_labels = json.load(infile)"
   ]
  },
  {
   "cell_type": "code",
   "execution_count": 353,
   "metadata": {
    "collapsed": false
   },
   "outputs": [],
   "source": [
    "def get_article_topics(article_id):\n",
    "    topics = lda.get_document_topics(dictionary.doc2bow(bigram[articles[article_id]]))\n",
    "    labels = map(lambda topic: (\"%s [%s]\" % (topic_labels[topic[0]]['label'], topic_labels[topic[0]]['id']), round(topic[1], 4)), topics)\n",
    "    labels.sort(key = lambda tup: tup[1], reverse=True)\n",
    "    return labels[0:3]"
   ]
  },
  {
   "cell_type": "code",
   "execution_count": 354,
   "metadata": {
    "collapsed": false
   },
   "outputs": [],
   "source": [
    "for i in range(0, len(articles)):\n",
    "  article_data[i]['topics'] = get_article_topics(i)"
   ]
  },
  {
   "cell_type": "code",
   "execution_count": 355,
   "metadata": {
    "collapsed": false
   },
   "outputs": [
    {
     "data": {
      "text/plain": [
       "[(u'Party politics [53]', 835),\n",
       " (u'_AMBIGUOUS [56]', 824),\n",
       " (u'Political promises [30]', 679),\n",
       " (u'Election [69]', 541),\n",
       " (u'Election [59]', 513),\n",
       " (u'Agriculture [66]', 470),\n",
       " (u'Economy [49]', 459),\n",
       " (u'Economy [78]', 457),\n",
       " (u'Tanzania development [42]', 445),\n",
       " (u'Sports [16]', 385)]"
      ]
     },
     "execution_count": 355,
     "metadata": {},
     "output_type": "execute_result"
    }
   ],
   "source": [
    "from collections import Counter\n",
    "counts = {'total': Counter(), 'citizen': Counter(), 'guardian': Counter(), 'daily_news': Counter()}\n",
    "for article in article_data:\n",
    "    article_topics_list = map(lambda x: x[0], article['topics'])\n",
    "    counts['total'].update(article_topics_list)\n",
    "    counts[article['publication']].update(article_topics_list)\n",
    "counts['total'].most_common(10)"
   ]
  },
  {
   "cell_type": "code",
   "execution_count": 356,
   "metadata": {
    "collapsed": false
   },
   "outputs": [
    {
     "data": {
      "text/plain": [
       "[(u'Political promises [30]', 279),\n",
       " (u'_AMBIGUOUS [56]', 247),\n",
       " (u'Party politics [53]', 206),\n",
       " (u'Economy [78]', 178),\n",
       " (u'Election [59]', 163),\n",
       " (u'Tanzania development [42]', 154),\n",
       " (u'Agriculture [66]', 150),\n",
       " (u'Economy [49]', 144),\n",
       " (u'Sports [16]', 139),\n",
       " (u'Election [69]', 132)]"
      ]
     },
     "execution_count": 356,
     "metadata": {},
     "output_type": "execute_result"
    }
   ],
   "source": [
    "counts['daily_news'].most_common(10)"
   ]
  },
  {
   "cell_type": "code",
   "execution_count": 357,
   "metadata": {
    "collapsed": false
   },
   "outputs": [
    {
     "data": {
      "text/plain": [
       "[(u'Political promises [30]', 142),\n",
       " (u'Agriculture [66]', 136),\n",
       " (u'Tanzania development [42]', 128),\n",
       " (u'Party politics [53]', 127),\n",
       " (u'Economy [78]', 126),\n",
       " (u'_AMBIGUOUS [56]', 110),\n",
       " (u'Election [59]', 99),\n",
       " (u'Economy [49]', 95),\n",
       " (u'Sports [16]', 79),\n",
       " (u'Sports [65]', 69)]"
      ]
     },
     "execution_count": 357,
     "metadata": {},
     "output_type": "execute_result"
    }
   ],
   "source": [
    "counts['guardian'].most_common(10)"
   ]
  },
  {
   "cell_type": "code",
   "execution_count": 358,
   "metadata": {
    "collapsed": false
   },
   "outputs": [
    {
     "data": {
      "text/plain": [
       "[(u'Party politics [53]', 502),\n",
       " (u'_AMBIGUOUS [56]', 467),\n",
       " (u'Election [69]', 347),\n",
       " (u'Political promises [30]', 258),\n",
       " (u'Election [59]', 251),\n",
       " (u'Economy [49]', 220),\n",
       " (u'Agriculture [66]', 184),\n",
       " (u'Sports [65]', 184),\n",
       " (u'Courts and legal cases [15]', 170),\n",
       " (u'Sports [16]', 167)]"
      ]
     },
     "execution_count": 358,
     "metadata": {},
     "output_type": "execute_result"
    }
   ],
   "source": [
    "counts['citizen'].most_common(10)"
   ]
  },
  {
   "cell_type": "code",
   "execution_count": 359,
   "metadata": {
    "collapsed": false
   },
   "outputs": [
    {
     "data": {
      "text/plain": [
       "{u'byline': [u'By Correspondent \\n\\t\\t\\t\\t\\t'],\n",
       " u'publication': u'guardian',\n",
       " u'scraped_at': u'2015-09-14T11:55:48.722359',\n",
       " u'title': [u'We must keep politics out of sportsWe must keep politics out of sports'],\n",
       " 'topics': [(u'Sports [64]', 0.4308),\n",
       "  (u'Election [69]', 0.2413),\n",
       "  (u'_AMBIGUOUS [56]', 0.1305)],\n",
       " u'url': u'http://www.ippmedia.com/?l=84155'}"
      ]
     },
     "execution_count": 359,
     "metadata": {},
     "output_type": "execute_result"
    }
   ],
   "source": [
    "article_data[0]"
   ]
  },
  {
   "cell_type": "code",
   "execution_count": 360,
   "metadata": {
    "collapsed": false
   },
   "outputs": [],
   "source": [
    "def get_topic_headlines(topic_label):\n",
    "    for a in article_data:\n",
    "        article_topics_list = map(lambda x: x[0], a['topics'])\n",
    "        if topic_label in article_topics_list:\n",
    "            print a['title']"
   ]
  },
  {
   "cell_type": "code",
   "execution_count": 361,
   "metadata": {
    "collapsed": false
   },
   "outputs": [],
   "source": [
    "from collections import defaultdict\n",
    "def get_topic_counts_by_date(topic_label):\n",
    "    counts = {'total': defaultdict(int), 'citizen': defaultdict(int), 'guardian': defaultdict(int), 'daily_news': defaultdict(int)}\n",
    "    for a in article_data:\n",
    "        date_string = a['scraped_at'][0:10]\n",
    "        article_topics_list = map(lambda x: x[0], a['topics'])\n",
    "        if topic_label in article_topics_list:\n",
    "            counts['total'][date_string] += 1\n",
    "            counts[a['publication']][date_string] += 1\n",
    "    return counts"
   ]
  },
  {
   "cell_type": "code",
   "execution_count": 362,
   "metadata": {
    "collapsed": false
   },
   "outputs": [],
   "source": [
    "%matplotlib inline\n",
    "\n",
    "import matplotlib\n",
    "import numpy as np\n",
    "import matplotlib.pyplot as plt\n",
    "import datetime"
   ]
  },
  {
   "cell_type": "code",
   "execution_count": 334,
   "metadata": {
    "collapsed": false
   },
   "outputs": [],
   "source": [
    "def plot_topic(topic_label):\n",
    "    counts = get_topic_counts_by_date(topic_label)\n",
    "    for publication in ['citizen', 'guardian', 'daily_news']:\n",
    "        pub_counts = counts[publication].items()\n",
    "        pub_counts.sort(key=lambda x: datetime.datetime.strptime(x[0], '%Y-%m-%d'))\n",
    "        dates, vals = zip(*pub_counts)\n",
    "\n",
    "        plt.scatter(range(len(pub_counts)), vals, s=2)\n",
    "        plot_labels = map(lambda label: label if dates.index(label) % 4 == 0 else \"\", dates)\n",
    "        plt.xticks(range(len(pub_counts)), plot_labels, size='small', rotation=45)\n",
    "        plt.rcParams[\"figure.figsize\"] = (16.0, 4.0)\n",
    "        plt.title(\"%s - %s\" % (publication, topic_label))\n",
    "        plt.show()"
   ]
  },
  {
   "cell_type": "code",
   "execution_count": 339,
   "metadata": {
    "collapsed": false
   },
   "outputs": [
    {
     "data": {
      "image/png": "[encoded data removed]",
      "text/plain": [
       "<matplotlib.figure.Figure at 0x1118dd910>"
      ]
     },
     "metadata": {},
     "output_type": "display_data"
    },
    {
     "data": {
      "image/png": "[encoded data removed]",
      "text/plain": [
       "<matplotlib.figure.Figure at 0x111beaad0>"
      ]
     },
     "metadata": {},
     "output_type": "display_data"
    },
    {
     "data": {
      "image/png": "[encoded data removed]",
      "text/plain": [
       "<matplotlib.figure.Figure at 0x111e15c90>"
      ]
     },
     "metadata": {},
     "output_type": "display_data"
    }
   ],
   "source": [
    "plot_topic('Agriculture [66]')"
   ]
  },
  {
   "cell_type": "code",
   "execution_count": 365,
   "metadata": {
    "collapsed": false
   },
   "outputs": [
    {
     "name": "stdout",
     "output_type": "stream",
     "text": [
      "[u'Mtwara residents want government fulfill promises']\n",
      "[u'TTB in talks with UAE airlines to promote tourism in Near East']\n",
      "[u'Students plead with government to boost science and technology']\n",
      "[u'Internal auditors challenged to deliver risk management skills']\n",
      "[u'Expore foreign opportunity, local contractors urged']\n",
      "[u\"Lowassa: I'll make Tanzania land of milk, honey\"]\n",
      "[u'Substandard drugs causing health problems in Tanzania']\n",
      "[u'TTB targets tourists from West Africa to diversify source markets']\n",
      "[u'Contractors bank in the offing, says chairperson']\n",
      "[u'Scientists say bigger funding needed for reputable journals']\n",
      "[u'AVIC international offers free real estate services in Tanzania']\n",
      "[u'Local governments must be more transparent, accountable']\n",
      "[u'Lack of knowledge hinders cross-border trade - TWCC']\n",
      "[u'EAC, Norway signs pact to promote communication, energy.']\n",
      "[u'Govt, private sector eye boosting rice marketing']\n",
      "[u'Govt allocates 1.5bn/- for youth business loans']\n",
      "[u'UN, media fraternity extend olive branch ahead of general election']\n",
      "[u'Govt, IAEA to modernise cancer treatment centre']\n",
      "[u'40 Tanzanian students leave for studies in Europe, China']\n",
      "[u\"TTB introduces official Tanzania tourism's App\"]\n",
      "[u'Chief Secretary praises cable firm for bridging demand gap']\n",
      "[u'Three Kagera Region churches burnt']\n",
      "[u'US advises on ways to boost investments']\n",
      "[u\"Government moving to restrict purchase of medicine without doctors' prescription\"]\n",
      "[u'TMEA now ready to support efforts to sell more rice in regional markets']\n",
      "[u'Tanzania to join EAC One Network Area']\n",
      "[u'Tanzania to benefit from US$ 5billion power investments']\n",
      "[u'Green economy to boost socio-economic development']\n",
      "[u'Mtibwa coach mocks Yanga']\n",
      "[u'Dr Magufuli gives his plan to end corruption']\n",
      "[u\"Chadema allays fears on 'rigging' of elections\"]\n",
      "[u'Poland dishes out 240bn/- to mechanise agriculture']\n",
      "[u'Hamad visits well believed to contain oil on Pemba island']\n",
      "[u'Govt mulls introducing ICT training in primary schools']\n",
      "[u'Revamp the Central Railway Line for greater prosperity']\n",
      "[u'Morogoro to have food processing plant soon']\n",
      "[u'Tanzania, Kenya exempt border communities from custom restrictions']\n",
      "[u'Work begins on US$800m regional power pool project']\n",
      "[u'A booming economy, mushrooming skyscrapers and key players']\n",
      "[u'Bank dedicates to improve education']\n",
      "[u'Conserve, protect elephant from the numerous threats it faces.']\n",
      "[u'Watumishi real estate firm wins public servant housing tender.']\n",
      "[u'Vocational colleges no longer for upgrading to universities.']\n",
      "[u'Undersea canyon to delay work on US$15bn plant.']\n",
      "[u'NEMC suspends Chinese paper factory in Kilimanjaro.']\n",
      "[u'Bilal asks tour operators to tap global market']\n",
      "[u'Mununga quarry to boost Tazara.']\n",
      "[u'JK launches online business registration facility.']\n",
      "[u'As phase II gets over Tsh  300bn in AfDB funding']\n",
      "[u'TIC applauds US based Friedkins Fund 216bn/- tourism investment']\n",
      "[u'Business community commends JK for revamping economy.']\n",
      "[u'Cotton Board chief fully for genetically modified seeds']\n",
      "[u'Geita Gold Mine all out to conserve environment']\n",
      "[u'JK calls for good working relations between public and private sectors']\n",
      "[u'Tanzania commended on regional grains business.']\n",
      "[u'CAG wants TPDF to take over oil and gas security']\n",
      "[u\"'Delays in contractors' payments to cost taxpayers 124bn/-'\"]\n",
      "[u'Shein pledges to purchase two new ships if re-elected']\n",
      "[u'Private, public sectors coop more crucial now']\n",
      "[u'UN: Good governance vital in achieving SDGs']\n",
      "[u'Seven people feared dead as mine pit collapses in Kahama']\n",
      "[u'JK: Kenyan projects in Tanzania now worth $1685 million']\n",
      "[u'Dodoma to bid Kikwete farewell next week']\n",
      "[u'Dr Shein pledges to boost domestic tourism in Isles']\n",
      "[u'Tanzania opens more camps for Burundi refugees so as to ease conditions at Nyarugusu']\n",
      "[u'Cordial relations with Kenya commendable']\n",
      "[u'Magufuli visions gas economy for Bagamoyo, Chalinze area.']\n",
      "[u'Farmers demand proper land use.']\n",
      "[u'Small-scale miners get Sh7.2bn TIB boost.']\n",
      "[u'Uhuru Torch: A remarkable symbolic social development tool']\n",
      "[u'Govt mulls setting up mineral bank']\n",
      "[u\"Mining firm helps improve Geita communities' lives\"]\n",
      "[u'Dr Mengi calls for stronger ties with Turkish investors']\n",
      "[u'Bagamoyo port to handle fourth generation ships']\n",
      "[u'Export Processing zones attract 3trn/- in investments']\n",
      "[u'Hamad pledges to unlock untapped Isles economic potentials']\n",
      "[u'Adhere to rules of the game, JK cautions politicians']\n",
      "[u'Charity golf funds benefit needy girls']\n",
      "[u'ASAS director urges govt to scrap VAT']\n",
      "[u\"Stakeholders praise arrest, prosecution of Sh 5.4bn 'ivory queen'\"]\n",
      "[u'Symbion CEO explains Tanzania\\u2019s power blues']\n",
      "[u'Call for parents to value local universities']\n",
      "[u'Kikwete sports park ought to benefit all']\n",
      "[u'IAEA says Tanzania faces  challenges in radiation safety  score']\n",
      "[u'Balance of payments deteriorates by US$298 million']\n",
      "[u'Candidate promises to end Kibamba water woes']\n",
      "[u'Govt challenged on aviation industry development']\n",
      "[u'NEEC assures oil and gas businesses better investment climate']\n",
      "[u'NEEC, National Service sign youth employment pact']\n",
      "[u'Anxiety at ZEC offices as security intensified']\n",
      "[u'TAA embarks on airports construction, renovation plan']\n",
      "[u'Govt counseled on uneven tax collection']\n",
      "[u'Expert warns of improper oil, gas planning']\n",
      "[u'Post-graduate courses in oil, gas set for unveiling']\n",
      "[u'Charcoal business earns Tanzania 1.6trn/- annually']\n",
      "[u'Govt targets to lure 5 million visitors by 2020']\n",
      "[u'NCAA offers 7m/- for Karatu school dining hall, lab']\n",
      "[u'EAC in drive to address re-emergence of Ebola scourge']\n",
      "[u'Nourishment is a right: State should modernise agriculture']\n",
      "[u'Marlboro maker gives local tobacco farmers more support']\n",
      "[u'Firm acquires Tanga gas block from bankrupt owner']\n",
      "[u'Port stakeholders: Maritime railways transport ministry urgently needed']\n",
      "[u'Why Dar suspended from EITI.']\n",
      "[u'Educators fight HIV/AIDS in style.']\n",
      "[u'Tanzania`s tourism features in London trade fair']\n",
      "[u\"Tanzania's teledensity seen reaching 100pc in five years\"]\n",
      "[u\"'Energy mix only way to end power woes'\"]\n",
      "[u'Two boys, one girl win full scholarships to join UDSM']\n",
      "[u'Tanzanians spend 173bn/- abroad for NCDs treatment']\n",
      "[u'Business savvy youth lured to compete in Total Startupper of the Year 2015 award']\n",
      "[u'Livelihood options to scale up REDD+ in coastal forests']\n",
      "[u\"Regional integration the way for Tanzania's growth - Sebregondi\"]\n",
      "[u\"Govt reviews children's development policy for more care and growth\"]\n",
      "[u'Private sector seeking policy to ensure SMEs acquire resources']\n",
      "[u'Ministry orders expedited processing of inquiries in energy, minerals sector']\n",
      "[u\"Meet stresses locals' investment in oil' gas sector\"]\n",
      "[u'Tazara receives $22.4m new locomotives, coaches']\n",
      "[u'EA youths form coalition of business organisations']\n",
      "[u'Kibo Mining adopts strategy to uplift operational status']\n",
      "[u'Tour guides issue red alert for peak season strike']\n",
      "[u'Coco Beach to undergo 6bn/- facelift']\n",
      "[u'Govt urged to empower auditors with new skills']\n",
      "[u'Workplace safety: Does anyone care?']\n",
      "[u'Govt urged to boost budget for wildlife management']\n",
      "[u'Executives of key social fund for poor associated with fraud']\n",
      "[u\"Tour guides plan nationwide strike\\r\\n\\r\\nOpposed to 'high' fees, paying in dollars\"]\n",
      "[u'Hail NEC, Registrar on poll code of conduct']\n",
      "[u'Only quality education will ignite socio-economic development']\n",
      "[u'High rise buildings changing Arusha city']\n",
      "[u\"Moshi Technical School in 'pathetic condition'\"]\n",
      "[u'TLP launches presidential race, promises to transform Bunge']\n",
      "[u'Dar firm seeks to raise 2bn/- for cancer ward']\n",
      "[u'VP touts for investment in Mara River Basin']\n",
      "[u'CUF to liberalise clove trade']\n",
      "[u'Red Cross, EAC seek ways to safeguard human dignity']\n",
      "[u'Hamad disparages underperforming ministers']\n",
      "[u'Finally Tanesco generates power using natural gas']\n",
      "[u'Pinda urges use of plastic desks to conserve environment']\n",
      "[u'CUF vows to transform Z\\u2019bar']\n",
      "[u'Victor: Innovator of auto engine heat detector']\n",
      "[u'Norwegian businessmen attend oil, gas meet']\n",
      "[u'Warming up to peaceful polls in Kilimanjaro']\n",
      "[u'Project pushes to equip Tarime youth on SRHR']\n",
      "[u'Deforestation ruins Kilimanjaro']\n",
      "[u'Dar plans 10-year strategy to harness unemployment']\n",
      "[u'Norway: Reliable development partner']\n",
      "[u'Dar unveils new extractive sector contracts drafting approach']\n",
      "[u'Move to attract more investors commendable']\n",
      "[u'Most Tanzanians support oil and gas extraction, sale']\n",
      "[u'Samatta eyes European football']\n",
      "[u'Govt, private sector join efforts to improve ties']\n",
      "[u'Zanzibar free to develop its oil, gas industry, says minister']\n",
      "[u'In support of road infrastructure investment']\n",
      "[u'Tanzania set to abolish phone roaming costs']\n",
      "[u'Criminals wreaking havoc on houses of worship']\n",
      "[u'Imprisoned by socialisation hence no jobs']\n",
      "[u'Firms to conserve critically threatened species, ecosystems']\n",
      "[u'State committed to fight poaching, conserve game']\n",
      "[u'Tanzanians should love one another, during and after general elections']\n",
      "[u'TNBC helps reach consensus on strategic issues']\n",
      "[u'With old guards as midwives, hopes of young professionals in region still remain wanting']\n",
      "[u'Citizens asked to protect water sources']\n",
      "[u'200bn/- pumped into TIC to boost tourism, conservation endeavour']\n",
      "[u'Babati: A town with intriguing history']\n",
      "[u'Unmanned plane for anti-poaching war']\n",
      "[u'Political party poll subsidy for scrutiny']\n",
      "[u'How to foster cooperation among gold miners']\n",
      "[u'Tourism operators wooed to take part in Swahili Expo']\n",
      "[u'Insurance penetration in rural areas remain low']\n",
      "[u'Involving community in fight against FGM']\n",
      "[u'Rock City Marathon seventh edition slated for November 15']\n",
      "[u'Karume rallies behind Magufuli, Shein']\n",
      "[u'Natural gas, oil database launched']\n",
      "[u'Initiatives to conserve environment get boost']\n",
      "[u'Recognising significance of cyber security awareness']\n",
      "[u'Develop reading culture, students advised']\n",
      "[u'Cultural heritage is now subject for discussion']\n",
      "[u'VP hails \\u2018Father James\\u2019 on environment']\n",
      "[u'Germany army donates medical college to TPDF']\n",
      "[u'Tanzania targeting improved workmanship to boost output']\n",
      "[u'Kikwete to chair business council meet']\n",
      "[u'Why investors should be ready for new petrol regime']\n",
      "[u'Strategies put in place to mitigate disaster risks']\n",
      "[u'Dar pushes to create more job opportunities']\n",
      "[u'VP wants multi-national synergy in tourism']\n",
      "[u'NEC urged to help people living with disability']\n",
      "[u'Explore job opportunities, Bilal tells youth']\n",
      "[u'Online platform to enhance businesses launched']\n",
      "[u'Magufuli sketches middle income road map']\n",
      "[u'How mobile financial services reduce poverty']\n",
      "[u'VIP seeks to recover 1tr/- over delay to convert plant']\n",
      "[u'When TV becomes protagonist against FGM']\n",
      "[u'Grand northern road takes off']\n",
      "[u'Gas discoveries spark dreams of making Tanzania new hot spot']\n",
      "[u'Rehabilitated hospital to enhance service delivery in Tarime']\n",
      "[u'Dar to scale up use of traditional land titles']\n",
      "[u'TRA focuses on ICT use to plug loopholes, boost revenue collection']\n",
      "[u'Dar keen to cut red tape']\n",
      "[u'New road will surely boost EA integration']\n",
      "[u'Measures taken to strengthen security organs']\n",
      "[u'Kikwete urges Diaspora to invest in motherland']\n",
      "[u'Invest through PPP, business people urged']\n",
      "[u'Kikwete assures Kenyans of CCM\\u2019s victory in polls']\n",
      "[u'Training the youth for empowerment']\n",
      "[u'Dar-Kenya trade scales EA high']\n",
      "[u'Several schools picked for environment conservation campaign']\n",
      "[u'Economic growth driven by learning, innovation']\n",
      "[u'Kikwete sets super Dar mall in motion']\n",
      "[u'Kikwete to bid EA legislative assembly farewell']\n",
      "[u'Shein chronicles gains of 1964 Revolution']\n",
      "[u'Appreciating Acacia\\u2019s contribution to community']\n",
      "[u'Bilal calls for consensus over wind power project']\n",
      "[u'Gas binds Dar, Maputo relations']\n",
      "[u'Season of mega projects is here and with it misplaced priorities']\n",
      "[u'Natural gas project to end perennial power blackouts']\n",
      "[u'Sketching Tanzania\\u2019s vision after this year\\u2019s general election']\n",
      "[u'Northern Corridor to accelerate development']\n",
      "[u'Kenya\\u2019s investments in Tanzania grow']\n",
      "[u'Don calls for education of poor people to use sustainable energy']\n",
      "[u'Chombe Juu water project brings joy, hope']\n",
      "[u'Dangote cement plants boost Africa\\u2019s economy']\n",
      "[u'Dar pushes to get new gas power generators']\n",
      "[u'Key stakeholders at Dar Port decry 18pc VAT duty']\n",
      "[u'Power boom set as plant launched']\n",
      "[u'Higher education remains key avenue for skilled manpower']\n",
      "[u'Collaboration augments quality healthcare delivery']\n",
      "[u'Illegal deep Indian Ocean fishing on Magufuli target']\n",
      "[u'Dare not, poll \\u2018wreckers\\u2019 warned']\n",
      "[u'Tanzanian lady who shone alongside Obama, Kikwete at G8 Summit']\n",
      "[u'Sports administrators need to wake up']\n",
      "[u'Business people set to meet presidential aspirants on Friday']\n",
      "[u'Some still say it\\u2019s just a piece of wood']\n",
      "[u'Dairy farmers challenged to produce more milk']\n",
      "[u'Learn foreign languages to broaden job opportunities, youth told']\n",
      "[u'Kikwete lists NMB Bank among privatisation success stories']\n",
      "[u'Uphold existing peace, Tanzanians urged']\n",
      "[u'This Great Leap Forward in industrialisation!']\n",
      "[u'Numerous feats in sports, entertainment sectors accomplished']\n",
      "[u'JK: I leave office a happy man']\n",
      "[u'A tourist paradise in its own right']\n",
      "[u'Candidates urged to concede defeat graciously']\n",
      "[u'Shein sets in motion village power project']\n",
      "[u'Plans afoot to build \\u2018longest bridge in EA\\u2019 in Mwanza']\n",
      "[u'Firm assists students to study abroad']\n",
      "[u'Mkombozi Bank vows to support students']\n",
      "[u'RC wants environment friendly vehicles in city']\n",
      "[u'Let traders keep away from BRT lanes']\n",
      "[u'Kikwete: We equip TPDF to ensure nation\\u2019s defence']\n",
      "[u'Mbatia seeks markets for banana growers, traders']\n",
      "[u'Talented pair out to solve society problems']\n",
      "[u'200 sailors dispatched in oil, gas exploration']\n",
      "[u'Here is my shopping list today for the new president']\n",
      "[u'Dar keen to cut hydropower dependence']\n",
      "[u'Reaching out to children with special needs']\n",
      "[u'Investment climate for improvement']\n",
      "[u'Kisarawe\\u2019s CCM Jafo defeats CUF \\u2018Kingwendu\\u2019']\n",
      "[u'Tractor assembly plant to transform agriculture']\n",
      "[u'Mnyika defends parliamentary seat']\n",
      "[u'Infrastructure development has stimulated economic growth']\n",
      "[u'Local music academy makes new strides']\n",
      "[u'Kagera is potential investors\\u2019 destination']\n",
      "[u'Even your uncle can steal!']\n",
      "[u'Kagera RC warns post election trouble makers']\n",
      "[u'Katavi: A sparkling tourism jewel']\n",
      "[u'The real stuff to make Tanzania great again']\n",
      "[u'Tanzania in need of alternative HIV/Aids funding after donors\\u2019 exit']\n",
      "[u'Tanzania excels in good governance in Africa']\n",
      "[u'World largest garment buyer visits Tanzania']\n",
      "[u'Capital markets contribution surges to 54pc']\n",
      "[u'Serengeti MP vows to tame rampaging elephants']\n",
      "[u'NEEC, National Service accord a way to go']\n",
      "[u'Welcome aboard John Pombe Joseph Magufuli']\n",
      "[u'Employers\\u2019 body salutes Magufuli']\n",
      "[u'Time has come to stoutly enforce FGM legislation']\n",
      "[u'Magufuli administration calls for accountability']\n",
      "[u'DART, UNEP advocates cleaner fuels']\n",
      "[u'Mwinyi to grace opening of building tools company']\n",
      "[u'Tanzania to harvest 250,000 tonnes of cotton']\n",
      "[u'Shock as sales drop at Tingatinga Centre']\n",
      "[u'Tourists pour in despite poll toll']\n",
      "[u'Mazembe duo in for Algeria tie']\n",
      "[u'Why foreign supermarkets close shop in Tanzania']\n",
      "[u'Oil production set to promote Tanzania']\n",
      "[u'Bank launches new forex trading platform']\n",
      "[u'Stakeholders now seek govt hand in volleyball revival']\n",
      "[u'Dar busway takes off December']\n",
      "[u'Dar keen to enhance trade competitiveness']\n",
      "[u'Telecom firm launches new money service']\n",
      "[u'UNIDO pleased with current industrial reform\\u2019s agenda']\n",
      "[u'Dodoma RC bans demos during Bunge sessions']\n",
      "[u'Daily News/ HabariLeo publishers hailed over innovation']\n",
      "[u'Do tourists get what they want while in Tanzania']\n",
      "[u'Meeting seeks to end Mwanza land conflicts']\n",
      "[u'Coco Beach set for majestic transformation']\n",
      "[u'Seafarers court Magufuli\\u2019s help over employment']\n",
      "[u'Search for oil, gas on high-tech aerial mode']\n",
      "[u'Union calls for revisiting of mines, energy laws']\n",
      "[u'Support Saccos groups, financial institutions urged']\n",
      "[u'TIB issues 19bn/- credit facility to KUC']\n",
      "[u'Chamwino targets increased business opportunities']\n",
      "[u'Be brave and take calculated risk']\n",
      "[u'Traders tout pro-growth and fair fiscal policies']\n",
      "[u'Project seeks to protect child rights in extractive industry']\n",
      "[u'Hydro-electricity training centre on the cards']\n",
      "[u'Let\\u2019s conserve forests to protect our lives']\n",
      "[u'Producers to focus on new trends']\n",
      "[u'We don\\u2019t need presidential term limits says Museveni']\n",
      "[u'EAC gets $2bn from creative industry: SG']\n",
      "[u'Visa Platinum US dollar debit card for bank clients launched']\n",
      "[u'Unease still felt on energy laws']\n",
      "[u'Are we prepared for the next global epidemic?']\n",
      "[u'Membe: It was a sudden death']\n",
      "[u'Top 100 firms\\u2019 list to be unveiled today']\n",
      "[u'Companies for reforms and unity']\n",
      "[u'Up game to gain edge in tourism, TZ told']\n",
      "[u'Rising Stars tournament gets underway in Mwanza']\n",
      "[u'Bodaboda riders get donation of thousand reflective jackets']\n",
      "[u'Plea for next government to invest amply in transport sector']\n",
      "[u'New policy on private sector in the offing']\n",
      "[u'Fishing sector hangs in the balance in Tanzania']\n",
      "[u'Deputy President Ruto calls for pushs in domestic tourism']\n",
      "[u'Lowassa\\u2019s unique campaign move']\n",
      "[u'MARKET DATA REVIEW : On becoming stock exchange for local community']\n",
      "[u'JK wants rural roads improved']\n",
      "[u'High risk in aviation industry scares away local millionaires']\n",
      "[u'East Africa plans to tackle energy woes']\n",
      "[u'9 killed in night blaze']\n",
      "[u'Regional assembly okays bill']\n",
      "[u'Diamond pulls off a musical coup']\n",
      "[u'Caution over poll impact on gas sector']\n",
      "[u'EA scientists deserve praise for their work']\n",
      "[u'Devalued yuan shakes EA currencies']\n",
      "[u'ACT pledges to use arts, sports to sell Dar tourism']\n",
      "[u'ACT : Nobody should be left lagging behind']\n",
      "[u'Tanzania must do more to reduce maternal deaths']\n",
      "[u'Tap alternative energy sources to drive economy']\n",
      "[u'Avoid blame game: JK']\n",
      "[u'Tanzania yet to tap fully market benefits']\n",
      "[u'Tanzania need Sh60tr  for mega projects']\n",
      "[u'Unlocking of fishing potential expected']\n",
      "[u'Study explains why TZ small businesses fail']\n",
      "[u'\\u2018Rugemalira should have been charged\\u2019']\n",
      "[u'Block makers get tips from cement firm']\n",
      "[u'No politician shall interfere professionals, says Magufuli']\n",
      "[u'Help Private sector to create more jobs']\n",
      "[u'COLBERT I.KING : The collateral damage from the Iran deal']\n",
      "[u'STRAIGHT TALK  : Millions want change, let there be free competition']\n",
      "[u'New spending curbs to hit Tanapa, NCAA hard']\n",
      "[u'\\u2018Irrational\\u2019 hackers raise concern in US']\n",
      "[u'Digital era offers new hope to the youth']\n",
      "[u'Somalia signs oil contract with Norway\\u2019s Spectrum']\n",
      "[u'Foreign investors must partner with locals: Lowassa']\n",
      "[u'Kikwete to meet private sector']\n",
      "[u'Precision Air to scale back after losses ']\n",
      "[u'Road construction leaves a mark']\n",
      "[u'Businesses need more govt support to prosper: expert']\n",
      "[u'Zati expects peaceful General Election']\n",
      "[u'We must reflect on what is affecting our airlines ']\n",
      "[u'TCRA: Banks to benefit by two new laws']\n",
      "[u'Magufuli: This is why some hate CCM']\n",
      "[u'TRAVEL : Meru cultural centre brings museum to life']\n",
      "[u'Seek more tourist attractions, JK tells NCAA']\n",
      "[u'EDITORIAL : Probe these claims and take appropriate action']\n",
      "[u'Power outages end Saturday : Tanesco']\n",
      "[u'JK not updated on Laetoli footprints,  claims official']\n",
      "[u'Bold steps towards a united fisheries management front']\n",
      "[u'Business climate on focus ']\n",
      "[u'INSIGHT: Green court takes lead role in high-stakes battle']\n",
      "[u'Lowassa for \\u2018free health care\\u2019']\n",
      "[u'Value vocational training, EAC states told']\n",
      "[u'Magufuli: My leadership will be guided by wisdom']\n",
      "[u'Inspiring students to read']\n",
      "[u' Success : Looking beyond the scope of one\\u2019s expertise']\n",
      "[u'Symbion to generate power from gas']\n",
      "[u'We\\u2019ll help Tanzania farmers to find rice markets: group']\n",
      "[u'Power tariffs won\\u2019t fall soon']\n",
      "[u'Next govt expected to lower taxes for tourism to grow']\n",
      "[u'Tourists to enjoy Sh22bn products']\n",
      "[u'EDITORIAL: We must strive harder to avoid wastefulness ']\n",
      "[u'EACJ lower court faulted over Serengeti road case']\n",
      "[u'President Uhuru urges joint action to reduce inequality']\n",
      "[u'Horticultural sector \\u2018not doing well\\u2019']\n",
      "[u'Concern as Dar loses identity']\n",
      "[u'Tourism gets $100m FDI boost from US']\n",
      "[u'Training Tanzania\\u2019s future CEOs']\n",
      "[u' No need to fear GMOs : Biotech experts ']\n",
      "[u'New database launched for openness in gas, oil sector']\n",
      "[u'Govt gets Sh365bn dividend from NMB in five years']\n",
      "[u'Openness will help in managing oil sector']\n",
      "[u'Up tourism promotion abroad, govt challenged']\n",
      "[u'JK launches online business registration platform ']\n",
      "[u'Less travelled road to Mikumi National Park']\n",
      "[u'Uhuru makes major changes in Kenya\\u2019s parastatal sector']\n",
      "[u'MATHIAS HOUNKPE :Is Burkina Faso\\u2019s elite guard still a threat after failed coup attempt?']\n",
      "[u'Symbion: Sh2.6tr project to start 2016']\n",
      "[u'THE CULTURE BEAT : We need to give in the name of honesty']\n",
      "[u' Udom lecturers threaten boycott over uneven pay policy ']\n",
      "[u'Promote TZ-Kenya trade, private sectors challenged']\n",
      "[u'Lowassa vows to clean up Tanesco, lazy staff warned']\n",
      "[u'Academic roots for reliable,affordable energy for progress']\n",
      "[u'Businesses told to partner for growth']\n",
      "[u'Kingunge joins campaign']\n",
      "[u'Be careful when signing deals with multinationals: oil, gas countries warned']\n",
      "[u'Eala MPs want Namanga border project hastened']\n",
      "[u'EPZA, TIB partner to mobilise resources']\n",
      "[u'TZ and Uganda oil sectors partner up ']\n",
      "[u'JK hurt he ends term with power rationing']\n",
      "[u'Kikwete\\u2019s dreams come true']\n",
      "[u'Enough politics, people need electricity now']\n",
      "[u'Uchumi yet to pay billions to TZ suppliers']\n",
      "[u'EDITORIAL: Yes, Kenyatta\\u2019s views on EAC are pertinent']\n",
      "[u'Uchumi suppliers now seek legal action against investor']\n",
      "[u'4 parties to take part in top job\\u2019s debate']\n",
      "[u'Sh3.8bn more to be disbursed to Tigo Pesa users']\n",
      "[u'CROSS ROADS : TZ economy 2016: Brace for hard times ahead']\n",
      "[u'Industrialisation: True or moment for dreaming big?']\n",
      "[u'Bahi residents up in arms against   uranium mining ']\n",
      "[u'JK: Military spending not wastage of public funds']\n",
      "[u'Our plea to the next government']\n",
      "[u'Next president should better business climate']\n",
      "[u'Senegal turns to sewage in bid to meet renewable goals']\n",
      "[u'Over 100 youth set for farming course']\n",
      "[u'EAC partners warned of Ebola outbreak during rainy season']\n",
      "[u'TRAVEL : A bush experience at AndBeyond Klein\\u2019s camp']\n",
      "[u'New plans for Mandela varsity']\n",
      "[u\"Maintain peace in Z'bar as a solution is sought\"]\n",
      "[u'Youth going green to beat joblesness']\n",
      "[u'Over 470 workers strike over pay']\n",
      "[u'Bank and varsity to empower 300 youth']\n",
      "[u'Magufuli faces a tough but not insurmountable task']\n",
      "[u'Aides \\u2018will determine\\u2019 JPM success']\n",
      "[u'EAC, Interpol to boost border security']\n",
      "[u'TRAVEL : A memorable day trip to Monduli Juu']\n",
      "[u'Investors upbeat on Magufuli govt']\n",
      "[u'Geologists call on new govt to capitalise on minerals ']\n",
      "[u'Work as a team, CCM challenges the youth']\n",
      "[u'Msigwa\\u2019s poll victory challenged in court']\n",
      "[u'Fuel retailer sets aside Sh70m for start-ups']\n",
      "[u'Chinese company to use Liganga iron ore']\n",
      "[u'Cementing stability one of Magufuli\\u2019s vital challenges assignment']\n",
      "[u'Taxman downplays 2.5pc shortfall']\n",
      "[u'Unchecked Burundi crisis hits EAC plans']\n",
      "[u'Firm seeks licence to operate airline']\n",
      "[u'Employers\\u2019 plea on high cost of doing business']\n",
      "[u'Oil and gas profits could take a decade ']\n",
      "[u' UN fights high HIV/Aids rates in SADC prisons ']\n",
      "[u'Small traders empowered on capital access, skills']\n",
      "[u'EDITORIAL: Envoy\\u2019s advice on tax apt']\n",
      "[u'TRAVEL :  The desolate beauty of Tanga']\n",
      "[u'TIB, council seek Sh6bn to transform city beach']\n",
      "[u'TPDC to take oil search a notch higher']\n",
      "[u'New hotel promises to boost hospitality sector ']\n",
      "[u'Tanzania, UAE investors in Sh43bn city project']\n",
      "[u'CAREER PROFILE : The woman who has green fingers']\n",
      "[u'TZ will continue relying on hydro-power sourcses, says ACT boss']\n",
      "[u'  Stamico hands over projects to schools']\n",
      "[u'TESC launches training centres for entrepreneurs']\n"
     ]
    }
   ],
   "source": [
    "get_topic_headlines('Economy [78]')"
   ]
  },
  {
   "cell_type": "code",
   "execution_count": null,
   "metadata": {
    "collapsed": true
   },
   "outputs": [],
   "source": []
  }
 ],
 "metadata": {
  "kernelspec": {
   "display_name": "Python 2",
   "language": "python",
   "name": "python2"
  },
  "language_info": {
   "codemirror_mode": {
    "name": "ipython",
    "version": 2
   },
   "file_extension": ".py",
   "mimetype": "text/x-python",
   "name": "python",
   "nbconvert_exporter": "python",
   "pygments_lexer": "ipython2",
   "version": "2.7.6"
  }
 },
 "nbformat": 4,
 "nbformat_minor": 0
}
